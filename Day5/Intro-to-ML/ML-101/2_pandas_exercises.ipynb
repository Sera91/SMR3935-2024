{
 "cells": [
  {
   "cell_type": "markdown",
   "metadata": {
    "toc": true
   },
   "source": [
    "<h1>Table of Contents<span class=\"tocSkip\"></span></h1>\n",
    "<div class=\"toc\"><ul class=\"toc-item\"><li><span><a href=\"#Pandas-Exercises-2---Occupation\" data-toc-modified-id=\"Pandas-Exercises-2---Occupation-1\"><span class=\"toc-item-num\">1&nbsp;&nbsp;</span>Pandas Exercises 2 - Occupation</a></span><ul class=\"toc-item\"><li><span><a href=\"#Step-1.-Import-the-necessary-libraries\" data-toc-modified-id=\"Step-1.-Import-the-necessary-libraries-1.1\"><span class=\"toc-item-num\">1.1&nbsp;&nbsp;</span>Step 1. Import the necessary libraries</a></span></li><li><span><a href=\"#Step-2.-Assign-it-to-a-variable-called-users.\" data-toc-modified-id=\"Step-2.-Assign-it-to-a-variable-called-users.-1.2\"><span class=\"toc-item-num\">1.2&nbsp;&nbsp;</span>Step 2. Assign it to a variable called users.</a></span></li><li><span><a href=\"#Step-3.-set-the-column-user_id-as-row-index\" data-toc-modified-id=\"Step-3.-set-the-column-user_id-as-row-index-1.3\"><span class=\"toc-item-num\">1.3&nbsp;&nbsp;</span>Step 3. set the column user_id as row index</a></span></li><li><span><a href=\"#Step-4.-Discover-what-is-the-mean-age-per-occupation\" data-toc-modified-id=\"Step-4.-Discover-what-is-the-mean-age-per-occupation-1.4\"><span class=\"toc-item-num\">1.4&nbsp;&nbsp;</span>Step 4. Discover what is the mean age per occupation</a></span></li><li><span><a href=\"#Step-5.-Discover-the-Male-ratio-per-occupation-and-sort-it-from-the-most-to-the-least\" data-toc-modified-id=\"Step-5.-Discover-the-Male-ratio-per-occupation-and-sort-it-from-the-most-to-the-least-1.5\"><span class=\"toc-item-num\">1.5&nbsp;&nbsp;</span>Step 5. Discover the Male ratio per occupation and sort it from the most to the least</a></span></li><li><span><a href=\"#Step-6.-For-each-occupation,-calculate-the-minimum-and-maximum-ages\" data-toc-modified-id=\"Step-6.-For-each-occupation,-calculate-the-minimum-and-maximum-ages-1.6\"><span class=\"toc-item-num\">1.6&nbsp;&nbsp;</span>Step 6. For each occupation, calculate the minimum and maximum ages</a></span></li><li><span><a href=\"#Step-7.-For-each-combination-of-occupation-and-gender,-calculate-the-mean-age\" data-toc-modified-id=\"Step-7.-For-each-combination-of-occupation-and-gender,-calculate-the-mean-age-1.7\"><span class=\"toc-item-num\">1.7&nbsp;&nbsp;</span>Step 7. For each combination of occupation and gender, calculate the mean age</a></span></li><li><span><a href=\"#Step-8.--For-each-occupation-present-the-percentage-of-women-and-men\" data-toc-modified-id=\"Step-8.--For-each-occupation-present-the-percentage-of-women-and-men-1.8\"><span class=\"toc-item-num\">1.8&nbsp;&nbsp;</span>Step 8.  For each occupation present the percentage of women and men</a></span></li></ul></li></ul></div>"
   ]
  },
  {
   "cell_type": "markdown",
   "metadata": {},
   "source": [
    "# Pandas Exercises 2 - Occupation"
   ]
  },
  {
   "cell_type": "markdown",
   "metadata": {},
   "source": [
    "## Step 1. Import the necessary libraries"
   ]
  },
  {
   "cell_type": "code",
   "execution_count": null,
   "metadata": {},
   "outputs": [],
   "source": []
  },
  {
   "cell_type": "markdown",
   "metadata": {},
   "source": [
    "## Step 2. Assign it to a variable called users."
   ]
  },
  {
   "cell_type": "code",
   "execution_count": null,
   "metadata": {},
   "outputs": [],
   "source": [
    "filepath = \"data/user.csv\""
   ]
  },
  {
   "cell_type": "markdown",
   "metadata": {},
   "source": [
    "## Step 3. set the column user_id as row index"
   ]
  },
  {
   "cell_type": "code",
   "execution_count": null,
   "metadata": {},
   "outputs": [],
   "source": []
  },
  {
   "cell_type": "markdown",
   "metadata": {},
   "source": [
    "## Step 4. Discover what is the mean age per occupation"
   ]
  },
  {
   "cell_type": "code",
   "execution_count": null,
   "metadata": {},
   "outputs": [],
   "source": []
  },
  {
   "cell_type": "markdown",
   "metadata": {},
   "source": [
    "## Step 5. Discover the Male ratio per occupation and sort it from the most to the least"
   ]
  },
  {
   "cell_type": "code",
   "execution_count": null,
   "metadata": {},
   "outputs": [],
   "source": []
  },
  {
   "cell_type": "markdown",
   "metadata": {},
   "source": [
    "## Step 6. For each occupation, calculate the minimum and maximum ages"
   ]
  },
  {
   "cell_type": "code",
   "execution_count": null,
   "metadata": {},
   "outputs": [],
   "source": []
  },
  {
   "cell_type": "markdown",
   "metadata": {},
   "source": [
    "## Step 7. For each combination of occupation and gender, calculate the mean age"
   ]
  },
  {
   "cell_type": "code",
   "execution_count": null,
   "metadata": {},
   "outputs": [],
   "source": []
  },
  {
   "cell_type": "markdown",
   "metadata": {},
   "source": [
    "## Step 8.  For each occupation present the percentage of women and men"
   ]
  },
  {
   "cell_type": "code",
   "execution_count": null,
   "metadata": {},
   "outputs": [],
   "source": []
  }
 ],
 "metadata": {
  "kernelspec": {
   "display_name": "Python 3 (ipykernel)",
   "language": "python",
   "name": "python3"
  },
  "language_info": {
   "codemirror_mode": {
    "name": "ipython",
    "version": 3
   },
   "file_extension": ".py",
   "mimetype": "text/x-python",
   "name": "python",
   "nbconvert_exporter": "python",
   "pygments_lexer": "ipython3",
   "version": "3.9.9"
  },
  "toc": {
   "base_numbering": 1,
   "nav_menu": {},
   "number_sections": true,
   "sideBar": true,
   "skip_h1_title": false,
   "title_cell": "Table of Contents",
   "title_sidebar": "Contents",
   "toc_cell": true,
   "toc_position": {},
   "toc_section_display": true,
   "toc_window_display": false
  },
  "varInspector": {
   "cols": {
    "lenName": 16,
    "lenType": 16,
    "lenVar": 40
   },
   "kernels_config": {
    "python": {
     "delete_cmd_postfix": "",
     "delete_cmd_prefix": "del ",
     "library": "var_list.py",
     "varRefreshCmd": "print(var_dic_list())"
    },
    "r": {
     "delete_cmd_postfix": ") ",
     "delete_cmd_prefix": "rm(",
     "library": "var_list.r",
     "varRefreshCmd": "cat(var_dic_list()) "
    }
   },
   "types_to_exclude": [
    "module",
    "function",
    "builtin_function_or_method",
    "instance",
    "_Feature"
   ],
   "window_display": false
  }
 },
 "nbformat": 4,
 "nbformat_minor": 4
}
