{
  "nbformat": 4,
  "nbformat_minor": 0,
  "metadata": {
    "colab": {
      "provenance": [],
      "machine_shape": "hm",
      "gpuType": "L4"
    },
    "kernelspec": {
      "name": "python3",
      "display_name": "Python 3"
    },
    "language_info": {
      "name": "python"
    },
    "accelerator": "GPU"
  },
  "cells": [
    {
      "cell_type": "code",
      "source": [
        "# Critical imports\n",
        "import cudf\n",
        "import cuml\n",
        "import os\n",
        "import numpy as np\n",
        "import pandas as pd"
      ],
      "metadata": {
        "colab": {
          "base_uri": "https://localhost:8080/",
          "height": 404
        },
        "id": "mhQ54K5ymBnj",
        "outputId": "fb3fff4e-fb19-44f1-ef11-2915492b9b4f"
      },
      "execution_count": null,
      "outputs": [
        {
          "output_type": "error",
          "ename": "ModuleNotFoundError",
          "evalue": "No module named 'cudf'",
          "traceback": [
            "\u001b[0;31m---------------------------------------------------------------------------\u001b[0m",
            "\u001b[0;31mModuleNotFoundError\u001b[0m                       Traceback (most recent call last)",
            "\u001b[0;32m<ipython-input-1-1f5d9cb46d66>\u001b[0m in \u001b[0;36m<cell line: 2>\u001b[0;34m()\u001b[0m\n\u001b[1;32m      1\u001b[0m \u001b[0;31m# Critical imports\u001b[0m\u001b[0;34m\u001b[0m\u001b[0;34m\u001b[0m\u001b[0m\n\u001b[0;32m----> 2\u001b[0;31m \u001b[0;32mimport\u001b[0m \u001b[0mcudf\u001b[0m\u001b[0;34m\u001b[0m\u001b[0;34m\u001b[0m\u001b[0m\n\u001b[0m\u001b[1;32m      3\u001b[0m \u001b[0;32mimport\u001b[0m \u001b[0mcuml\u001b[0m\u001b[0;34m\u001b[0m\u001b[0;34m\u001b[0m\u001b[0m\n\u001b[1;32m      4\u001b[0m \u001b[0;32mimport\u001b[0m \u001b[0mos\u001b[0m\u001b[0;34m\u001b[0m\u001b[0;34m\u001b[0m\u001b[0m\n\u001b[1;32m      5\u001b[0m \u001b[0;32mimport\u001b[0m \u001b[0mnumpy\u001b[0m \u001b[0;32mas\u001b[0m \u001b[0mnp\u001b[0m\u001b[0;34m\u001b[0m\u001b[0;34m\u001b[0m\u001b[0m\n",
            "\u001b[0;31mModuleNotFoundError\u001b[0m: No module named 'cudf'",
            "",
            "\u001b[0;31m---------------------------------------------------------------------------\u001b[0;32m\nNOTE: If your import is failing due to a missing package, you can\nmanually install dependencies using either !pip or !apt.\n\nTo view examples of installing some common dependencies, click the\n\"Open Examples\" button below.\n\u001b[0;31m---------------------------------------------------------------------------\u001b[0m\n"
          ],
          "errorDetails": {
            "actions": [
              {
                "action": "open_url",
                "actionText": "Open Examples",
                "url": "/notebooks/snippets/importing_libraries.ipynb"
              }
            ]
          }
        }
      ]
    },
    {
      "cell_type": "markdown",
      "source": [
        " ## Move Pandas dictionaries to GPU"
      ],
      "metadata": {
        "id": "b_fngX7LmoGx"
      }
    },
    {
      "cell_type": "code",
      "source": [
        "# Create pandas dataframe\n",
        "pandas_df = pd.DataFrame({\n",
        "    'integers': [1, 2, 3, 4],\n",
        "    'strings': ['a', 'b', 'c', 'd']\n",
        "})\n",
        "\n",
        "# Convert string column to category format\n",
        "pandas_df['strings'] = pandas_df['strings'].astype('category')\n",
        "\n",
        "# Bridge from pandas to cudf\n",
        "gdf = cudf.DataFrame.from_pandas(pandas_df)\n",
        "\n",
        "# Print dataframe\n",
        "print(gdf)"
      ],
      "metadata": {
        "id": "UnHMDlagmSmq"
      },
      "execution_count": null,
      "outputs": []
    },
    {
      "cell_type": "markdown",
      "source": [
        "#Create objects with cudf"
      ],
      "metadata": {
        "id": "MAzXmK34m1EH"
      }
    },
    {
      "cell_type": "code",
      "execution_count": null,
      "metadata": {
        "colab": {
          "base_uri": "https://localhost:8080/",
          "height": 404
        },
        "id": "Yz90m_cvk5VX",
        "outputId": "94541f55-a6ba-401e-8423-95cfebc18d23"
      },
      "outputs": [
        {
          "output_type": "error",
          "ename": "ModuleNotFoundError",
          "evalue": "No module named 'cudf'",
          "traceback": [
            "\u001b[0;31m---------------------------------------------------------------------------\u001b[0m",
            "\u001b[0;31mModuleNotFoundError\u001b[0m                       Traceback (most recent call last)",
            "\u001b[0;32m<ipython-input-1-62ebd8a96619>\u001b[0m in \u001b[0;36m<cell line: 2>\u001b[0;34m()\u001b[0m\n\u001b[1;32m      1\u001b[0m \u001b[0;31m# Critical imports\u001b[0m\u001b[0;34m\u001b[0m\u001b[0;34m\u001b[0m\u001b[0m\n\u001b[0;32m----> 2\u001b[0;31m \u001b[0;32mimport\u001b[0m \u001b[0mcudf\u001b[0m\u001b[0;34m\u001b[0m\u001b[0;34m\u001b[0m\u001b[0m\n\u001b[0m\u001b[1;32m      3\u001b[0m \u001b[0;32mimport\u001b[0m \u001b[0mcuml\u001b[0m\u001b[0;34m\u001b[0m\u001b[0;34m\u001b[0m\u001b[0m\n\u001b[1;32m      4\u001b[0m \u001b[0;32mimport\u001b[0m \u001b[0mos\u001b[0m\u001b[0;34m\u001b[0m\u001b[0;34m\u001b[0m\u001b[0m\n\u001b[1;32m      5\u001b[0m \u001b[0;32mimport\u001b[0m \u001b[0mnumpy\u001b[0m \u001b[0;32mas\u001b[0m \u001b[0mnp\u001b[0m\u001b[0;34m\u001b[0m\u001b[0;34m\u001b[0m\u001b[0m\n",
            "\u001b[0;31mModuleNotFoundError\u001b[0m: No module named 'cudf'",
            "",
            "\u001b[0;31m---------------------------------------------------------------------------\u001b[0;32m\nNOTE: If your import is failing due to a missing package, you can\nmanually install dependencies using either !pip or !apt.\n\nTo view examples of installing some common dependencies, click the\n\"Open Examples\" button below.\n\u001b[0;31m---------------------------------------------------------------------------\u001b[0m\n"
          ],
          "errorDetails": {
            "actions": [
              {
                "action": "open_url",
                "actionText": "Open Examples",
                "url": "/notebooks/snippets/importing_libraries.ipynb"
              }
            ]
          }
        }
      ],
      "source": [
        "### Create a Series of integers\n",
        "\n",
        "gdf = cudf.Series([1, 2, 3, 4, 5, 6])\n",
        "print(gdf)\n",
        "print(type(gdf))\n",
        "\n",
        "### Create a Series of floats\n",
        "\n",
        "gdf = cudf.Series([1., 2., 3., 4., 5., 6.])\n",
        "print(gdf)\n",
        "\n",
        "### Create a  Series of strings\n",
        "\n",
        "\n",
        "gdf = cudf.Series(['a', 'b', 'c'])\n",
        "print(gdf)\n",
        "\n",
        "### Create 3 column DataFrame\n",
        "\n",
        "import datetime as dt\n",
        "\n",
        "# Using a dictionary of key-value pairs\n",
        "# Each key in the dictionary represents a category\n",
        "# The key is the category's name\n",
        "# The value is a list of the values in that category\n",
        "gdf = cudf.DataFrame({\n",
        "    # Create 10 busindates ess from 1st January 2019 via pandas\n",
        "    'dates': pd.date_range('1/1/2019', periods=10, freq='B'),\n",
        "    # Integers\n",
        "    'integers': [i for i in range(10)],\n",
        "    # Floats\n",
        "    'floats': [float(i) for i in range(10)]\n",
        "})\n",
        "\n",
        "# Print dataframe\n",
        "print(gdf)\n",
        "\n",
        "### Create 2 column Dataframe\n",
        "\n",
        "# Using a dictionary\n",
        "# Each key in the dictionary represents a category\n",
        "# The key is the category's name\n",
        "# The value is a list of the values in that category\n",
        "gdf = cudf.DataFrame({\n",
        "    'integers': [1 ,2, 3, 4],\n",
        "    'string': ['a', 'b', 'c', 'd']\n",
        "})\n",
        "\n",
        "print(gdf)\n",
        "\n",
        "\n",
        "\n",
        "\n",
        "\n",
        "\n",
        "\n",
        "\n",
        "\n",
        "\n"
      ]
    },
    {
      "cell_type": "markdown",
      "source": [
        "#Filtering a cudf dataframe"
      ],
      "metadata": {
        "id": "XbWNpXshnEaX"
      }
    },
    {
      "cell_type": "code",
      "source": [
        "#Printing Column Names\n",
        "\n",
        "\n",
        "gdf.columns\n",
        "\n",
        "### Viewing Top of DataFrame\n",
        "\n",
        "num_of_rows_to_view = 2\n",
        "print(gdf.head(num_of_rows_to_view))\n",
        "\n",
        "### Viewing Bottom of DataFrame\n",
        "\n",
        "num_of_rows_to_view = 3\n",
        "print(gdf.tail(num_of_rows_to_view))\n",
        "\n",
        "## Filtering\n",
        "\n",
        "# Method 1: Query\n",
        "\n",
        "\n",
        "print(gdf.query('integers == 1'))\n",
        "\n",
        "\"\"\"Filtering Strings by Column Values\n",
        "- This only works for floats and integers, not for strings so this will return an error!\n",
        "\"\"\"\n",
        "\n",
        "print(gdf.query('strings == a'))\n",
        "\n",
        "# Method 2:  Simple Columns\n",
        "\n",
        "# Filtering Strings by Column Values\n",
        "\n",
        "print(gdf[gdf.strings == 'b'])\n",
        "\n",
        "\n",
        "# Filtering based on the string column\n",
        "print(gdf[gdf.integers == 2])\n",
        "\n",
        "# Method 3:  Simple Rows\n",
        "\n",
        "#### Filtering by Row Numbers\n",
        "\n",
        "\n",
        "# Filter rows 0 to 2 (not inclusive of the third row with the index 2)\n",
        "print(gdf[0:2])\n",
        "\n",
        "#Using .loc\n",
        "# The syntax is as follows loc[rows, columns] allowing you to choose rows and columns accordingly\n",
        "# The example allows us to filter the first 3 rows (inclusive) of the column integers\n",
        "print(gdf.loc[0:2, ['integers']])"
      ],
      "metadata": {
        "id": "UMqI3e8lmf1Z"
      },
      "execution_count": null,
      "outputs": []
    },
    {
      "cell_type": "markdown",
      "source": [
        "#Intro to cuml"
      ],
      "metadata": {
        "id": "9iThHYEtx7nw"
      }
    },
    {
      "cell_type": "code",
      "source": [
        "import pickle\n",
        "import cuml\n",
        "from cuml.common.device_selection import using_device_type\n",
        "from cuml.common.device_selection import set_global_device_type, get_global_device_type\n",
        "from cuml.neighbors import NearestNeighbors\n",
        "from cuml.manifold import UMAP\n",
        "from cuml.linear_model import LinearRegression\n",
        "from cuml.datasets import make_regression, make_blobs\n",
        "from cuml.model_selection import train_test_split\n",
        "\n",
        "X_blobs, y_blobs = make_blobs(n_samples=2000, n_features=20)\n",
        "X_train_blobs, X_test_blobs, y_train_blobs, y_test_blobs = train_test_split(X_blobs, y_blobs, test_size=0.2, shuffle=True)\n",
        "\n",
        "X_reg, y_reg = make_regression(n_samples=2000, n_features=20)\n",
        "X_train_reg, X_test_reg, y_train_reg, y_tes_reg = train_test_split(X_reg, y_reg, test_size=0.2, shuffle=True)\n",
        "\n",
        "nn = NearestNeighbors()\n",
        "#with using_device_type('gpu'):\n",
        "with using_device_type('cpu'):\n",
        "    nn.fit(X_train_blobs)\n",
        "    nearest_neighbors = nn.kneighbors(X_test_blobs)"
      ],
      "metadata": {
        "id": "Eq93BB5Xm963"
      },
      "execution_count": null,
      "outputs": []
    }
  ]
}