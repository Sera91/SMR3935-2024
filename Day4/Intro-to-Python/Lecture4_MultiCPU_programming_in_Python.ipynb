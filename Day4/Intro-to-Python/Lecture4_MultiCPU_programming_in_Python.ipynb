{
 "cells": [
  {
   "cell_type": "markdown",
   "metadata": {
    "id": "Mgzxn85UdDlq"
   },
   "source": [
    "# Section 3: Introduction to High-Performance Computing on Multi-CPU cores"
   ]
  },
  {
   "cell_type": "markdown",
   "metadata": {
    "id": "7t6iWKto4fo6"
   },
   "source": [
    "So far, we have been writing algorithms that are executed step-by-step.\n",
    "\n",
    "Then, every line we write, the Python Interpreted converts it into Machine code and such instructions are executed by one single CPU processor."
   ]
  },
  {
   "cell_type": "markdown",
   "metadata": {
    "id": "IfKE9JGivEgV"
   },
   "source": [
    "## 3.1 What's a CPU?\n"
   ]
  },
  {
   "cell_type": "markdown",
   "metadata": {
    "id": "WpitZqS74ZoA"
   },
   "source": [
    "Its names comes from **C**entral **P**rocessing **U**nit.\n",
    "\n",
    "It is the responsible for executing every instruction that it is given, handling the processing of _logical_ and _mathematical_ operations.\n",
    "\n",
    "In short, the main tasks for a CPU are:\n",
    "+ Reading each instruction from memory. The CPU and RAM constantly work together. This is also called reading from memory.\n",
    "+ Decoding or translating instructions in a way it can understand (Machine code).\n",
    "+ Executing and carrying out the given instructions.\n",
    "+ Storying the result of an execution back to memory (writing to memory).\n",
    "\n",
    "\n",
    "\n"
   ]
  },
  {
   "cell_type": "markdown",
   "metadata": {
    "id": "wY_Y-EII119L"
   },
   "source": [
    "## 3.2. The power of low-level compilers"
   ]
  },
  {
   "cell_type": "markdown",
   "metadata": {
    "id": "IwTa-cTZ5x9G"
   },
   "source": [
    "### 3.2.1. Just-In-Time Compilation"
   ]
  },
  {
   "cell_type": "markdown",
   "metadata": {
    "id": "ZZRpVOTfO7uZ"
   },
   "source": [
    "![](imgs/slides_d2/028.PNG)"
   ]
  },
  {
   "cell_type": "markdown",
   "metadata": {
    "id": "VOfyaGF-5362"
   },
   "source": [
    "+ Just-in-time (JIT) compilation is a way of executing computer code that involves compilation during *execution of a program* rather than before execution. \n",
    "\n",
    "+ JIT compilation combines the speed of compiled code with the versability and flexibility of interpretation."
   ]
  },
  {
   "cell_type": "markdown",
   "metadata": {
    "id": "2qKparhL58JW"
   },
   "source": [
    "### 3.2.2. Numba to the rescue"
   ]
  },
  {
   "cell_type": "markdown",
   "metadata": {
    "id": "XnFUZKhU57uf"
   },
   "source": [
    "#### 3.2.2.1. What's Numba?\n"
   ]
  },
  {
   "cell_type": "markdown",
   "metadata": {
    "id": "CLPXft4VOyTP"
   },
   "source": [
    "![](imgs/slides_d2/030.PNG)"
   ]
  },
  {
   "cell_type": "markdown",
   "metadata": {
    "id": "L51fVYEKS1XW"
   },
   "source": [
    "Numba is a High-Performance compiler for Python. It translates a subset of Python and NumPy functions into low-level code for speed.\n",
    "\n",
    "Numba is best used for loops, numpy arrays operations and functions.\n",
    "\n",
    "Some of its properties are:\n",
    "1. Compile Python code into an intermediate code readable for LLVM (Low Level Virtual Machine).\n",
    "2. Vectorize functions.\n",
    "3. Run functions in parallel both Multi-CPU and GPU cores.\n",
    "4. Easy to use thanks to decorators.\n",
    "\n",
    "Here, we want to gain speed without having to change many lines in our programs. \n",
    "\n",
    "Due to Python is a high-level language, we will try to generate a low-level intermediate language through compilation 💡.\n",
    "\n",
    "Let's see how it works."
   ]
  },
  {
   "cell_type": "markdown",
   "metadata": {
    "id": "N8uPvEug58Zn"
   },
   "source": [
    "#### 3.2.2.2. Numba's `@decorators`"
   ]
  },
  {
   "cell_type": "markdown",
   "metadata": {
    "id": "6ZDU5JO6P9n2"
   },
   "source": [
    "Remember : Decorators allow us to modify functions and extend their use. \n",
    "\n",
    "We can compile our Python code by using Numba's decorators. In fact, when we call a Numba-decorated function _it is compiled to machine code \"just-in-time\"_ for execution.\n",
    "\n",
    "In this way, our code can really run close to machine code speed!"
   ]
  },
  {
   "cell_type": "markdown",
   "metadata": {
    "id": "pSPEXAJC6Fwh"
   },
   "source": [
    "#### 3.2.2.3. `nopython` mode"
   ]
  },
  {
   "cell_type": "markdown",
   "metadata": {
    "id": "SYKxRDR36eRp"
   },
   "source": [
    "The Numba @jit decorator fundamentally operates in two compilation modes, nopython mode and object mode.\n",
    "\n",
    "If we define the `@jit` decorator with the parameter `nopython=True`, the decorated function will run enterily without the involvement of the Python Interpreter.\n",
    "\n",
    "This is the recommended and best-practice way.\n",
    "\n",
    "(_source: [Numba](https://numba.pydata.org/)_).\n"
   ]
  },
  {
   "cell_type": "markdown",
   "metadata": {
    "id": "iK1siPzGxPCm"
   },
   "source": [
    "##### 3.2.2.3.1. Example: Using a JIT decorator"
   ]
  },
  {
   "cell_type": "markdown",
   "metadata": {
    "id": "HJh1xael7mCC"
   },
   "source": [
    "Let's compare a compiled version of my_sum with the one that executed by the Python Interpreter."
   ]
  },
  {
   "cell_type": "code",
   "execution_count": null,
   "metadata": {
    "id": "ltRYWK97xSHs"
   },
   "outputs": [],
   "source": [
    "from numba import jit\n",
    "import numpy as np"
   ]
  },
  {
   "cell_type": "code",
   "execution_count": null,
   "metadata": {
    "id": "C2A_z1HZxmIW"
   },
   "outputs": [],
   "source": [
    "def my_py_sum(x):\n",
    "    result = 0\n",
    "    for i in range(len(x)):\n",
    "        result = result + x[i]\n",
    "    return result"
   ]
  },
  {
   "cell_type": "code",
   "execution_count": null,
   "metadata": {
    "id": "Yv0-JmaexN4k"
   },
   "outputs": [],
   "source": [
    "@jit(nopython=True)\n",
    "def my_njit_sum(x):\n",
    "    result = 0\n",
    "    for i in range(len(x)):\n",
    "        result = result + x[i]\n",
    "    return result"
   ]
  },
  {
   "cell_type": "code",
   "execution_count": null,
   "metadata": {
    "id": "PwjwtVnLxsv1"
   },
   "outputs": [],
   "source": [
    "# generating data\n",
    "x = np.random.randint(10, size=100_000)"
   ]
  },
  {
   "cell_type": "markdown",
   "metadata": {
    "id": "zBmfduNK74jb"
   },
   "source": [
    "Let's compare execution times !"
   ]
  },
  {
   "cell_type": "code",
   "execution_count": null,
   "metadata": {
    "colab": {
     "base_uri": "https://localhost:8080/"
    },
    "id": "Me0lGEOyxp8W",
    "outputId": "def67ac2-d8d9-4817-d832-1bcac47a34f7"
   },
   "outputs": [
    {
     "name": "stdout",
     "output_type": "stream",
     "text": [
      "100 loops, best of 5: 16.6 ms per loop\n"
     ]
    }
   ],
   "source": [
    "%timeit my_py_sum(x)"
   ]
  },
  {
   "cell_type": "code",
   "execution_count": null,
   "metadata": {
    "colab": {
     "base_uri": "https://localhost:8080/"
    },
    "id": "h6mJznuBx2VW",
    "outputId": "602ff7d7-2f7c-420d-916f-af5809e30a0d"
   },
   "outputs": [
    {
     "name": "stdout",
     "output_type": "stream",
     "text": [
      "The slowest run took 11276.69 times longer than the fastest. This could mean that an intermediate result is being cached.\n",
      "100000 loops, best of 5: 12.5 µs per loop\n"
     ]
    }
   ],
   "source": [
    "%timeit my_njit_sum(x)"
   ]
  },
  {
   "cell_type": "markdown",
   "metadata": {
    "id": "zk4nUC0E6FoL"
   },
   "source": [
    "#### 3.2.2.4. Exercise (`nopython` mode)\n",
    "\n",
    "1. Given two methods `py_sum(x,y)` and `np.sum(x,y)`, creates a method `numba_sum(x,y)` that computes the L1-distance of each element of two input arrays `x` and `y` with lengths $N$ (i.e., $\\sum_{i=0}^{N-1} |x_i - y_i|$). \n",
    "\n",
    "   Be sure of _using Python's built-in functions only_ for the `numba_sum(x,y)` function. \n",
    "   \n",
    "   Finally, measure their computational time for every method and compare them!\n",
    "\n",
    "2. **(Bonus):** Run 10 repetitions of the same computation, store those computation times, and show the mean and standard deviation for `py_sum(x)`, `np.sum(x)`, and`numba_sum(x)`.\n"
   ]
  },
  {
   "cell_type": "code",
   "execution_count": null,
   "metadata": {
    "id": "bhk-GAJ0L7b_"
   },
   "outputs": [],
   "source": [
    "import numpy as np\n",
    "from numba import jit\n",
    "import time"
   ]
  },
  {
   "cell_type": "code",
   "execution_count": null,
   "metadata": {
    "id": "AqlWHfKsMtPR"
   },
   "outputs": [],
   "source": [
    "# Generating 1M random numbers from (0,9).\n",
    "x = np.random.randint(10, size=1_000_000) \n",
    "y = np.random.randint(10, size=1_000_000) "
   ]
  },
  {
   "cell_type": "code",
   "execution_count": null,
   "metadata": {
    "id": "sh475HwNL5Fi"
   },
   "outputs": [],
   "source": [
    "def py_sum(x, y):\n",
    "    N = len(x)\n",
    "    # creating a list of N elements\n",
    "    result = 0 #[ 0 for _ in range(len(N))]\n",
    "    for i in range(N):\n",
    "    result = result + abs(x[i] - y[i])\n",
    "    return result"
   ]
  },
  {
   "cell_type": "code",
   "execution_count": null,
   "metadata": {
    "id": "__rYlw-cMSCd"
   },
   "outputs": [],
   "source": [
    "# add a decorator here !\n",
    "def numba_sum(x, y):\n",
    "    N = len(x)\n",
    "    result = 0.\n",
    "    for i in range(N):\n",
    "        result = result + abs(x[i] - y[i])\n",
    "    return result"
   ]
  },
  {
   "cell_type": "markdown",
   "metadata": {
    "id": "nLbasY9YM2Hz"
   },
   "source": [
    "Reminder: `time.time()` returns the current time (in seconds) of its execution!"
   ]
  },
  {
   "cell_type": "code",
   "execution_count": null,
   "metadata": {
    "id": "g5YI_rU-cnUe"
   },
   "outputs": [],
   "source": [
    "from time import time"
   ]
  },
  {
   "cell_type": "code",
   "execution_count": null,
   "metadata": {
    "id": "JZinMnUNMlJ4"
   },
   "outputs": [],
   "source": [
    "exec_time_python = time()\n",
    "py_sum(x,y)\n",
    "exec_time_python = time() - exec_time_python"
   ]
  },
  {
   "cell_type": "code",
   "execution_count": null,
   "metadata": {
    "id": "RvBMEQ2wNHrl"
   },
   "outputs": [],
   "source": [
    "exec_time_numpy = time()\n",
    "# write a numpy function here !\n",
    "exec_time_numpy = time() - exec_time_numpy"
   ]
  },
  {
   "cell_type": "code",
   "execution_count": null,
   "metadata": {
    "id": "RcE3woj8NOgo"
   },
   "outputs": [],
   "source": [
    "exec_time_numba = time()\n",
    "# execute your compiled numba function here!\n",
    "exec_time_numba = time() - exec_time_numba"
   ]
  },
  {
   "cell_type": "code",
   "execution_count": null,
   "metadata": {
    "id": "PuerrXWONiTI"
   },
   "outputs": [],
   "source": [
    "# print every execution time here"
   ]
  },
  {
   "cell_type": "markdown",
   "metadata": {
    "id": "D1W8ufITNnc_"
   },
   "source": [
    "Any conclusion?"
   ]
  },
  {
   "cell_type": "markdown",
   "metadata": {
    "id": "cRXmVZg_jYXk"
   },
   "source": [
    "#### 3.2.2.4. Solution"
   ]
  },
  {
   "cell_type": "code",
   "execution_count": null,
   "metadata": {
    "id": "ZDG2GJijjbXN"
   },
   "outputs": [],
   "source": [
    "# your solution here"
   ]
  },
  {
   "cell_type": "markdown",
   "metadata": {
    "id": "FXiUDQ2W6Flv"
   },
   "source": [
    "#### 3.2.2.4. Solution"
   ]
  },
  {
   "cell_type": "code",
   "execution_count": null,
   "metadata": {
    "id": "97a5kzdQ6khA"
   },
   "outputs": [],
   "source": [
    "import numpy as np\n",
    "from numba import jit\n",
    "from time import time"
   ]
  },
  {
   "cell_type": "code",
   "execution_count": null,
   "metadata": {
    "id": "rXb04Lfp2Rgx"
   },
   "outputs": [],
   "source": [
    "# Generating 1M random numbers from (0,9).\n",
    "x = np.random.randint(10, size=1_000_000) \n",
    "y = np.random.randint(10, size=1_000_000) "
   ]
  },
  {
   "cell_type": "code",
   "execution_count": null,
   "metadata": {
    "id": "5RLTRiCT6c62"
   },
   "outputs": [],
   "source": [
    "def py_sum(x, y):\n",
    "    N = len(x)\n",
    "    # creating a list of N elements\n",
    "    result = 0 #[ 0 for _ in range(len(N))]\n",
    "    for i in range(N):\n",
    "        result = result + abs(x[i] - y[i])\n",
    "    return result"
   ]
  },
  {
   "cell_type": "code",
   "execution_count": null,
   "metadata": {
    "id": "MLwaRb2O2UsM"
   },
   "outputs": [],
   "source": [
    "@jit(nopython = True)\n",
    "def numba_sum(x, y):\n",
    "    N = len(x)\n",
    "    result = 0.\n",
    "    for i in range(N):\n",
    "        result = result + abs(x[i] - y[i])\n",
    "    return result"
   ]
  },
  {
   "cell_type": "code",
   "execution_count": null,
   "metadata": {
    "colab": {
     "base_uri": "https://localhost:8080/"
    },
    "id": "NY9qSGB76rqP",
    "outputId": "6b116180-22ce-4dab-fb5c-4016d8a2e3cc"
   },
   "outputs": [
    {
     "data": {
      "text/plain": [
       "3301174"
      ]
     },
     "execution_count": 56,
     "metadata": {},
     "output_type": "execute_result"
    }
   ],
   "source": [
    "py_sum(x, y)"
   ]
  },
  {
   "cell_type": "code",
   "execution_count": null,
   "metadata": {
    "id": "cTCA8GU_Ph9u"
   },
   "outputs": [],
   "source": []
  },
  {
   "cell_type": "code",
   "execution_count": null,
   "metadata": {
    "id": "wPBITvwY6riA"
   },
   "outputs": [],
   "source": [
    "exec_time_python = time()\n",
    "py_sum(x,y)\n",
    "exec_time_python = time() - exec_time_python"
   ]
  },
  {
   "cell_type": "code",
   "execution_count": null,
   "metadata": {
    "id": "rAxkdL9t65BG"
   },
   "outputs": [],
   "source": [
    "exec_time_numpy = time()\n",
    "np.sum(np.abs(x-y))\n",
    "exec_time_numpy = time() - exec_time_numpy"
   ]
  },
  {
   "cell_type": "code",
   "execution_count": null,
   "metadata": {
    "id": "zgKfeHTT7Dvn"
   },
   "outputs": [],
   "source": [
    "exec_time_numba = time()\n",
    "numba_sum(x,y)\n",
    "exec_time_numba = time() - exec_time_numba"
   ]
  },
  {
   "cell_type": "code",
   "execution_count": null,
   "metadata": {
    "colab": {
     "base_uri": "https://localhost:8080/"
    },
    "id": "Tuo4VpZY7HGZ",
    "outputId": "2e34f5d7-7f80-4374-a44f-b741170aeefc"
   },
   "outputs": [
    {
     "name": "stdout",
     "output_type": "stream",
     "text": [
      "Python built-in sum: 0.435711145401001\n",
      "Numpy sum          : 0.008499622344970703\n",
      "Numba compiled sum : 0.11591291427612305\n"
     ]
    }
   ],
   "source": [
    "print(\"Python built-in sum:\", exec_time_python)\n",
    "print(\"Numpy sum          :\", exec_time_numpy )\n",
    "print(\"Numba compiled sum :\", exec_time_numba )"
   ]
  },
  {
   "cell_type": "markdown",
   "metadata": {
    "id": "RE7KEALnQHle"
   },
   "source": [
    "Conclusions?"
   ]
  },
  {
   "cell_type": "markdown",
   "metadata": {
    "id": "ZwuoRfj96Fjn"
   },
   "source": [
    "**Solution Exercise #2**"
   ]
  },
  {
   "cell_type": "code",
   "execution_count": null,
   "metadata": {
    "id": "NbNghStC7fmP"
   },
   "outputs": [],
   "source": [
    "from time import time\n",
    "\n",
    "times_numpy_sum  = np.zeros(shape=10)\n",
    "times_python_sum = np.zeros(shape=10)\n",
    "times_njit_sum   = np.zeros(shape=10)\n",
    "\n",
    "for it in range(10):\n",
    "    # python func.\n",
    "    t = time()\n",
    "    my_sum(x)\n",
    "    t = time() - t\n",
    "    times_python_sum[it] = t \n",
    "\n",
    "    # njit func.\n",
    "    t = time()\n",
    "    my_sum_njit(x)\n",
    "    t = time() - t\n",
    "    times_njit_sum[it] = t \n",
    "\n",
    "    # numpy func.\n",
    "    t = time()\n",
    "    np.sum(x)\n",
    "    t = time() - t\n",
    "    times_numpy_sum[it] = t \n"
   ]
  },
  {
   "cell_type": "code",
   "execution_count": null,
   "metadata": {
    "colab": {
     "base_uri": "https://localhost:8080/"
    },
    "id": "a1hKLGKj7hs4",
    "outputId": "e7f36133-bfb8-4f6a-c3d8-efa5c6b3d006"
   },
   "outputs": [
    {
     "data": {
      "text/plain": [
       "(array([0.294348  , 0.28803158, 0.29592371, 0.28964925, 0.29641986,\n",
       "        0.29230523, 0.31979561, 0.5130136 , 0.29662228, 0.29207444]),\n",
       " array([0.00105548, 0.00105405, 0.00105095, 0.00105071, 0.00133204,\n",
       "        0.00105929, 0.00122118, 0.00103569, 0.00104952, 0.00105119]),\n",
       " array([0.00078368, 0.00070119, 0.00065613, 0.0007031 , 0.0010004 ,\n",
       "        0.00068808, 0.00089598, 0.00065494, 0.00080657, 0.00067949]))"
      ]
     },
     "execution_count": 14,
     "metadata": {},
     "output_type": "execute_result"
    }
   ],
   "source": [
    "times_python_sum, times_njit_sum, times_numpy_sum"
   ]
  },
  {
   "cell_type": "code",
   "execution_count": null,
   "metadata": {
    "colab": {
     "base_uri": "https://localhost:8080/"
    },
    "id": "glT6xYWl7lpP",
    "outputId": "f3a269c9-868d-42e3-f745-f58b8d9fcdfc"
   },
   "outputs": [
    {
     "name": "stdout",
     "output_type": "stream",
     "text": [
      "SU(python, njit) mean=292.555\tstd=69.656\n",
      "SU(numpy, njit)  mean=0.688\tstd=0.052\n"
     ]
    }
   ],
   "source": [
    "speedup_python = (times_python_sum/times_njit_sum)\n",
    "speedup_numpy = (times_numpy_sum/times_njit_sum)\n",
    "\n",
    "mean_py = np.mean(speedup_python)\n",
    "std_py  = np.std(speedup_python)\n",
    "mean_np = np.mean(speedup_numpy)\n",
    "std_np  = np.std(speedup_numpy)\n",
    "\n",
    "print(\"SU(py, njit) mean=%.3f\\tstd=%.3f\" % (mean_py, std_py)\n",
    "print(\"SU(np, njit) mean=%.3f\\tstd=%.3f\" % (mean_np, std_np)"
   ]
  },
  {
   "cell_type": "markdown",
   "metadata": {
    "id": "bxabQP3SWINY"
   },
   "source": [
    "We already improved **a lot** the computation time of our function!.\n",
    "\n",
    "As you saw, you only need to add a _decorator_ to improve the performance and by compiling Python instructions!\n"
   ]
  },
  {
   "cell_type": "markdown",
   "metadata": {
    "id": "JcZak-sh7GFV"
   },
   "source": [
    "---"
   ]
  },
  {
   "cell_type": "markdown",
   "metadata": {
    "id": "yH8rCoqY-KFd"
   },
   "source": [
    "## 3.3. Computational strategies"
   ]
  },
  {
   "cell_type": "markdown",
   "metadata": {
    "id": "rBujptjD7Y-_"
   },
   "source": [
    "### 3.3.1. Serialism, Concurrency and Parallelism"
   ]
  },
  {
   "cell_type": "markdown",
   "metadata": {
    "id": "5Dl9Jm-YOtoH"
   },
   "source": [
    "![](imgs/slides_d2/039.PNG)"
   ]
  },
  {
   "cell_type": "markdown",
   "metadata": {
    "id": "abW_7ilc_hKF"
   },
   "source": [
    "*Serialism* is the traditional way of doing computing: the processor or the system will be executing just one work by time."
   ]
  },
  {
   "cell_type": "markdown",
   "metadata": {
    "id": "vd9QrWul_ONe"
   },
   "source": [
    "We can distinguish between *concurrency* and *parallelism* based on the next two definitions:"
   ]
  },
  {
   "cell_type": "markdown",
   "metadata": {
    "id": "qJrVPTbx_F61"
   },
   "source": [
    "**Definition 1.** \n",
    "\n",
    "Concurrency is a property of a program (at design level) where two or more tasks can be in progress simultaneously.\n"
   ]
  },
  {
   "cell_type": "markdown",
   "metadata": {
    "id": "nnon5wWd_cw6"
   },
   "source": [
    "**Definition 2.**\n",
    "\n",
    "Parallelism is a run-time property where two or more tasks are being executed simultaneously.\n"
   ]
  },
  {
   "cell_type": "markdown",
   "metadata": {
    "id": "Js3lP7SH_0mQ"
   },
   "source": [
    "Let $C$ and $P$ be concurrency and parallelism, respectively, then $P \\subset C$. \n",
    "\n",
    "Thus, parallelism requiers concurrency, but concurrency does not require parallelism.\n"
   ]
  },
  {
   "cell_type": "markdown",
   "metadata": {
    "id": "oI7iW9FR__fF"
   },
   "source": [
    "### 3.3.2. Types of parallelisms\n",
    "\n",
    "**Parallel computing** is the act of solving a problem of size $n$ by dividing its domain into $k \\geq 2$ (with $k \\in \\mathcal{N}$) parts and solving them with $p$ physical processors, simultaneously.\n",
    "\n",
    "Let $P_{D}$ be a problem with domain $D$. If $P_{D}$ is parallelizable, then $D$ can be decomposed into $k$ sub-problems:\n",
    "\n",
    "$D = d_1 + d_2 + ... + d_k = \\sum_{i=1}^k d_i$."
   ]
  },
  {
   "cell_type": "markdown",
   "metadata": {
    "id": "YxsMD9KrBBA-"
   },
   "source": [
    "#### 3.3.2.1. Definition: Data- and Task-parallel problems"
   ]
  },
  {
   "cell_type": "markdown",
   "metadata": {
    "id": "3PW72uw8AGQe"
   },
   "source": [
    "$P_{D}$ is a **data-parallel problem** if $D$ is composed of data elements and solving the problem requires applying a kernel function $f()$ to the whole domain:\n",
    "\n",
    "$f(D) = f(d_{1}) + f(d_{2}) + ... + f(d_{k}) = \\sum_{i=1}^k f(d_i)$.\n",
    "\n",
    "\n"
   ]
  },
  {
   "cell_type": "markdown",
   "metadata": {
    "id": "HrH52J7wAS_O"
   },
   "source": [
    "In contrast, $P_D$ is a **task-parallel problem** if $D$ is composed of functions and solving the problem requires applying each function to a common stream of data $S$:\n",
    "\n",
    "$D(S) = d_1(S) + d_2(S) + ... + d_k(S) = \\sum_{i=1}^k d_i(S)$."
   ]
  },
  {
   "cell_type": "markdown",
   "metadata": {
    "id": "o5b6d2fNDkfo"
   },
   "source": [
    "**Example**"
   ]
  },
  {
   "cell_type": "markdown",
   "metadata": {
    "id": "f6P5A4cZDpsS"
   },
   "source": [
    "Let $D$ be a 1D-array with $n$ components. Then, we can define $k = \\frac{n}{N}$ as the amount of chunks of data to be analyzed for each core. \n",
    "\n",
    "Thus, we can run in parallel an algorithm such that each core works in a partition of the original data $D = d_1 + d_2 + \\dots + d_k$, with $N$ the amount of cores.\n"
   ]
  },
  {
   "cell_type": "markdown",
   "metadata": {
    "id": "InEQ0yrBOopQ"
   },
   "source": [
    "![](imgs/slides_d2/044.PNG)"
   ]
  },
  {
   "cell_type": "markdown",
   "metadata": {
    "id": "Ky21ffu_AUZF"
   },
   "source": [
    "#### 3.3.2.2. Which types of problems are better for multithread computing?"
   ]
  },
  {
   "cell_type": "markdown",
   "metadata": {
    "id": "hjS82ndnBOyH"
   },
   "source": [
    "**Data-parallel problems are ideal candidates for the GPU or multi-core CPUs beacuse each thread executes the same instructions but on different data**. \n",
    "\n",
    "On the other hand, tasks-parallel problems are best suited for the CPU since they enable the execution of many tasks with adaptable memory access patterns. "
   ]
  },
  {
   "cell_type": "markdown",
   "metadata": {
    "id": "81WfWYOz7Lj2"
   },
   "source": [
    "----"
   ]
  },
  {
   "cell_type": "markdown",
   "metadata": {
    "id": "9QiAmRYNBazA"
   },
   "source": [
    "## 3.4. Parallel computing with Python! (ft. Numba)"
   ]
  },
  {
   "cell_type": "markdown",
   "metadata": {
    "id": "oPL0xj87GnYP"
   },
   "source": [
    "In this section we will use the same python ecosystem but we will include Numba for Just-In-Time compilation plus multithreading on CPUs."
   ]
  },
  {
   "cell_type": "markdown",
   "metadata": {
    "id": "FoCqCf3-Ohqo"
   },
   "source": [
    "![](imgs/slides_d2/046.PNG)"
   ]
  },
  {
   "cell_type": "markdown",
   "metadata": {
    "id": "n2SI-WQ0COaQ"
   },
   "source": [
    "### 3.4.1. The magic trick: Numba's Parallel range (`prange`)"
   ]
  },
  {
   "cell_type": "markdown",
   "metadata": {
    "id": "V05yZf1bCq6h"
   },
   "source": [
    "Let's use `prange`! It's like Python's `range` function but it runs in **p**arallel 🤯.\n"
   ]
  },
  {
   "cell_type": "markdown",
   "metadata": {
    "id": "WdFuzaHxC5PH"
   },
   "source": [
    "#### 3.4.1.1. Example (`prange`)"
   ]
  },
  {
   "cell_type": "code",
   "execution_count": null,
   "metadata": {
    "id": "q_ucf5vhOUsq"
   },
   "outputs": [],
   "source": [
    "import numpy as np\n",
    "from numba import jit"
   ]
  },
  {
   "cell_type": "code",
   "execution_count": null,
   "metadata": {
    "id": "Hrtvm7MtORi2"
   },
   "outputs": [],
   "source": [
    "def my_serial_count(N):\n",
    "    result = 0\n",
    "    for i in range(N):\n",
    "        result += 1 \n",
    "    return result"
   ]
  },
  {
   "cell_type": "code",
   "execution_count": null,
   "metadata": {
    "id": "XPbgXcurOVSV"
   },
   "outputs": [],
   "source": [
    "import numpy as np\n",
    "from numba import jit, prange, set_num_threads "
   ]
  },
  {
   "cell_type": "code",
   "execution_count": null,
   "metadata": {
    "id": "JmdGySM2OE5X"
   },
   "outputs": [],
   "source": [
    "@jit(nopython=True, parallel=True)\n",
    "def my_parallel_count(N):\n",
    "    result = 0\n",
    "    for i in prange(N):\n",
    "        result += 1 \n",
    "    return result"
   ]
  },
  {
   "cell_type": "code",
   "execution_count": null,
   "metadata": {
    "colab": {
     "base_uri": "https://localhost:8080/"
    },
    "id": "kUdYclSYOYvG",
    "outputId": "26634c04-0a21-4573-d874-1b1d596d7466"
   },
   "outputs": [
    {
     "data": {
      "text/plain": [
       "1000"
      ]
     },
     "execution_count": 95,
     "metadata": {},
     "output_type": "execute_result"
    }
   ],
   "source": [
    "my_serial_count(N=1000)"
   ]
  },
  {
   "cell_type": "code",
   "execution_count": null,
   "metadata": {
    "colab": {
     "base_uri": "https://localhost:8080/"
    },
    "id": "VuTldQpXObHG",
    "outputId": "a9c4f747-59e7-4ea7-8fb9-f551fcb71b20"
   },
   "outputs": [
    {
     "data": {
      "text/plain": [
       "1000"
      ]
     },
     "execution_count": 96,
     "metadata": {},
     "output_type": "execute_result"
    }
   ],
   "source": [
    "my_parallel_count(N=1000)"
   ]
  },
  {
   "cell_type": "code",
   "execution_count": null,
   "metadata": {
    "colab": {
     "base_uri": "https://localhost:8080/"
    },
    "id": "6LBif09-Od9Y",
    "outputId": "4be4e87e-ad63-44b0-b60b-7c6a7f5827ab"
   },
   "outputs": [
    {
     "name": "stdout",
     "output_type": "stream",
     "text": [
      "10 loops, best of 5: 62.7 ms per loop\n"
     ]
    }
   ],
   "source": [
    "%timeit my_serial_count(N=1_000_000)"
   ]
  },
  {
   "cell_type": "code",
   "execution_count": null,
   "metadata": {
    "colab": {
     "base_uri": "https://localhost:8080/"
    },
    "id": "S942GK3gOgp4",
    "outputId": "6962d077-9c67-401e-829a-cbab386ad8b1"
   },
   "outputs": [
    {
     "name": "stdout",
     "output_type": "stream",
     "text": [
      "The slowest run took 448.88 times longer than the fastest. This could mean that an intermediate result is being cached.\n",
      "100000 loops, best of 5: 2.7 µs per loop\n"
     ]
    }
   ],
   "source": [
    "%timeit my_parallel_count(N=1_000_000)"
   ]
  },
  {
   "cell_type": "markdown",
   "metadata": {
    "id": "YfyQX9P872Pa"
   },
   "source": [
    "#### 3.4.1.2. Exercise\n",
    "\n",
    "Improve our function `my_serial_sum(x)` and make it run in multiple cores via `@parallel`. Measure the computation time and calculate the _speed-up_ compared with our previous version with `@njit`."
   ]
  },
  {
   "cell_type": "code",
   "execution_count": null,
   "metadata": {
    "id": "vCqbMc3FDhiI"
   },
   "outputs": [],
   "source": [
    "import numpy as np\n",
    "from numba import prange, jit"
   ]
  },
  {
   "cell_type": "code",
   "execution_count": null,
   "metadata": {
    "id": "T8bE9ws_Dkyy"
   },
   "outputs": [],
   "source": [
    "# Generating 1M random numbers from (0,9).\n",
    "x = np.random.randint(10, size=1_000_000) "
   ]
  },
  {
   "cell_type": "code",
   "execution_count": null,
   "metadata": {
    "id": "C9N41N2KDl4v"
   },
   "outputs": [],
   "source": [
    "@jit(nopython=True)\n",
    "def my_serial_sum(x):\n",
    "    N = len(x)\n",
    "    result = 0\n",
    "    for i in prange(N):\n",
    "        result = result + x[i]\n",
    "    return result\n"
   ]
  },
  {
   "cell_type": "markdown",
   "metadata": {
    "id": "RR4wi2mE767Y"
   },
   "source": [
    "#### 3.4.1.3. Solution"
   ]
  },
  {
   "cell_type": "code",
   "execution_count": null,
   "metadata": {
    "id": "_MRKw7O60-CD"
   },
   "outputs": [],
   "source": [
    "import numpy as np\n",
    "from numba import prange, jit"
   ]
  },
  {
   "cell_type": "code",
   "execution_count": null,
   "metadata": {
    "id": "fdWy5Wu00_By"
   },
   "outputs": [],
   "source": [
    "# Generating 1M random numbers from (0,9).\n",
    "x = np.random.randint(10, size=1_000_000) "
   ]
  },
  {
   "cell_type": "code",
   "execution_count": null,
   "metadata": {
    "id": "XYTBZrv_1I9Q"
   },
   "outputs": [],
   "source": [
    "def my_py_sum(x):\n",
    "    N = len(x)\n",
    "    result = 0\n",
    "    for i in prange(N):\n",
    "        result = result + x[i]\n",
    "    return result"
   ]
  },
  {
   "cell_type": "code",
   "execution_count": null,
   "metadata": {
    "id": "eDBxx_ea1Bhk"
   },
   "outputs": [],
   "source": [
    "@jit(nopython=True)\n",
    "def my_serial_sum(x):\n",
    "    N = len(x)\n",
    "    result = 0\n",
    "    for i in prange(N):\n",
    "        result = result + x[i]\n",
    "    return result"
   ]
  },
  {
   "cell_type": "code",
   "execution_count": null,
   "metadata": {
    "id": "tVfpr6rN2AzZ"
   },
   "outputs": [],
   "source": [
    "@jit(nopython=True, parallel=True)\n",
    "def my_parallel_sum(x):\n",
    "    N = len(x)\n",
    "    result = 0\n",
    "    for i in prange(N):\n",
    "        result = result + x[i]\n",
    "    return result"
   ]
  },
  {
   "cell_type": "code",
   "execution_count": null,
   "metadata": {
    "colab": {
     "base_uri": "https://localhost:8080/"
    },
    "id": "onXJdV9AD8d5",
    "outputId": "b66ff564-8b0e-4db9-acb1-e71a9ec25b90"
   },
   "outputs": [
    {
     "name": "stdout",
     "output_type": "stream",
     "text": [
      "1000 loops, best of 5: 273 µs per loop\n"
     ]
    }
   ],
   "source": [
    "%timeit my_serial_sum(x)"
   ]
  },
  {
   "cell_type": "code",
   "execution_count": null,
   "metadata": {
    "colab": {
     "base_uri": "https://localhost:8080/"
    },
    "id": "Tt2A_4P_2JeJ",
    "outputId": "47bf37c4-f3c8-43b8-f571-2c7f9f46b6e8"
   },
   "outputs": [
    {
     "name": "stdout",
     "output_type": "stream",
     "text": [
      "The slowest run took 1152.68 times longer than the fastest. This could mean that an intermediate result is being cached.\n",
      "1 loop, best of 5: 317 µs per loop\n"
     ]
    }
   ],
   "source": [
    "%timeit my_parallel_sum(x)"
   ]
  },
  {
   "cell_type": "markdown",
   "metadata": {
    "id": "MN8kDfUbEEML"
   },
   "source": [
    "#### 3.4.1.4. Bonus exercises\n",
    "\n",
    "Measure the computation time of each version (i.e., pure Python, NumPy, `nopython` compiled, and `parallel`) for 10 repetitions.\n",
    "\n",
    "Print the mean and standard deviation of the speed-up for each case."
   ]
  },
  {
   "cell_type": "code",
   "execution_count": null,
   "metadata": {
    "id": "7VEhE8Jd8Lpo"
   },
   "outputs": [],
   "source": [
    "from time import time\n",
    "\n",
    "times_numpy_sum  = np.zeros(shape=10)\n",
    "times_python_sum = np.zeros(shape=10)\n",
    "times_njit_sum   = np.zeros(shape=10)\n",
    "times_parallel_sum = np.zeros(shape=10)\n",
    "\n",
    "for it in range(10):\n",
    "    # python func.\n",
    "    t = time()\n",
    "    my_py_sum(x)\n",
    "    t = time() - t\n",
    "    times_python_sum[it] = t \n",
    "\n",
    "    # numpy func.\n",
    "    t = time()\n",
    "    np.sum(x)\n",
    "    t = time() - t\n",
    "    times_numpy_sum[it] = t \n",
    "\n",
    "    # njit func.\n",
    "    t = time()\n",
    "    my_serial_sum(x)\n",
    "    t = time() - t\n",
    "    times_njit_sum[it] = t\n",
    "\n",
    "    # nopython=True, parallel=True\n",
    "    t = time()\n",
    "    my_parallel_sum(x)\n",
    "    t = time() - t\n",
    "    times_parallel_sum[it] = t"
   ]
  },
  {
   "cell_type": "code",
   "execution_count": null,
   "metadata": {
    "colab": {
     "base_uri": "https://localhost:8080/"
    },
    "id": "ZvnF5bOe8pFI",
    "outputId": "ecc910ef-6d7a-4082-cf14-62d38044c4db"
   },
   "outputs": [
    {
     "name": "stdout",
     "output_type": "stream",
     "text": [
      "SU(py, p)   mean=230.761\tstd=44.310\n",
      "SU(np, p)   mean=1.631\tstd=0.369\n",
      "SU(njit, p) mean=1.071\tstd=0.134\n"
     ]
    }
   ],
   "source": [
    "speedup_python = (times_python_sum/times_parallel_sum)\n",
    "speedup_numpy = (times_numpy_sum/times_parallel_sum)\n",
    "speedup_njit = (times_njit_sum/times_parallel_sum)\n",
    "\n",
    "mean_py = np.mean(speedup_python)\n",
    "std_py  = np.std(speedup_python)\n",
    "mean_np = np.mean(speedup_numpy)\n",
    "std_np  = np.std(speedup_numpy)\n",
    "mean_njit = np.mean(speedup_njit)\n",
    "std_njit  = np.std(speedup_njit)\n",
    "\n",
    "print(\"SU(py, p)   mean=%.3f\\tstd=%.3f\" % (mean_py, std_py))\n",
    "print(\"SU(np, p)   mean=%.3f\\tstd=%.3f\" % (mean_np, std_np))\n",
    "print(\"SU(njit, p) mean=%.3f\\tstd=%.3f\" % (mean_njit, std_njit))"
   ]
  },
  {
   "cell_type": "markdown",
   "metadata": {
    "id": "mTlKqwZf7O3e"
   },
   "source": [
    "----"
   ]
  },
  {
   "cell_type": "markdown",
   "metadata": {
    "id": "WIe1mBy1EpYB"
   },
   "source": [
    "## 3.5. Practical Part: Measuring Speed-up with Numba on  Multi-CPU cores. "
   ]
  },
  {
   "cell_type": "markdown",
   "metadata": {
    "id": "aAyN30SFE1VB"
   },
   "source": [
    "### 3.5.1. Exercises"
   ]
  },
  {
   "cell_type": "markdown",
   "metadata": {
    "id": "bJ28hYoo89gI"
   },
   "source": [
    "1. Create two vectors `x` and `y` that contain $N$ random values between 0 and 1."
   ]
  },
  {
   "cell_type": "code",
   "execution_count": null,
   "metadata": {
    "id": "LtD_NwShWSc8"
   },
   "outputs": [],
   "source": [
    "import numpy as np"
   ]
  },
  {
   "cell_type": "code",
   "execution_count": null,
   "metadata": {
    "id": "Ksl4q18t9I6R"
   },
   "outputs": [],
   "source": [
    "# your code here :) \n",
    "# Hint: Usec an np.random.randint()"
   ]
  },
  {
   "cell_type": "markdown",
   "metadata": {
    "id": "3j5Y4CEN9LtY"
   },
   "source": [
    "2. Compute the distance $d$ between the two vectors $x$ and $y$ with length $N$ such that $d(x,y) = \\sqrt{(x_1 - y_1)^2+(x_2 - y_2)^2+ \\dots + (x_N - y_N)^2}$.\n",
    "\n",
    "Use pure python for this (e.g., `import math` for square root computation). "
   ]
  },
  {
   "cell_type": "code",
   "execution_count": null,
   "metadata": {
    "id": "Z9sW5Whx9NTb"
   },
   "outputs": [],
   "source": [
    "# your code here"
   ]
  },
  {
   "cell_type": "markdown",
   "metadata": {
    "id": "jscIZlj79Oqp"
   },
   "source": [
    "3. Make a copy of such function and make it `@jit(nopython=True)` and parallel via `@jit(nopython=True, parallel=True)`."
   ]
  },
  {
   "cell_type": "code",
   "execution_count": null,
   "metadata": {
    "id": "sSwm-PrgWnM8"
   },
   "outputs": [],
   "source": [
    "from numba import jit, prange"
   ]
  },
  {
   "cell_type": "code",
   "execution_count": null,
   "metadata": {
    "id": "vXXNdSdC9UMg"
   },
   "outputs": [],
   "source": [
    "# your code here"
   ]
  },
  {
   "cell_type": "markdown",
   "metadata": {
    "id": "TkK8faaY9R80"
   },
   "source": [
    "4. Execute these three functions and save their execution times across 10 repetitions. \n",
    "\n",
    "   Compute the speed-ups as follows:\n",
    "   + Python method vs Parallel:  $speedup_{(py, parallel)} = \\bar{t}_{py} / \\bar{t}_{p}$.\n",
    "   + Compiled method vs Parallel:  $speedup_{(njit, parallel)} = \\bar{t}_{njit} / \\bar{t}_{p}$.\n",
    "\n",
    "  Note: $\\bar{t}_{i,j}$ is the average execution time between methods $i$ and $j$.\n",
    "\n",
    "  Print both speed-ups (mean and std).\n"
   ]
  },
  {
   "cell_type": "code",
   "execution_count": null,
   "metadata": {
    "id": "2nM6oXMzWWAM"
   },
   "outputs": [],
   "source": [
    "from time import time"
   ]
  },
  {
   "cell_type": "code",
   "execution_count": null,
   "metadata": {
    "id": "JvRrWHD7V8A4"
   },
   "outputs": [],
   "source": [
    "# your code here"
   ]
  },
  {
   "cell_type": "markdown",
   "metadata": {
    "id": "vAfdxIfA9Q_Z"
   },
   "source": [
    "\n",
    "5. Repeat this same procedure but change the length of the vectors $N$ (e.g., `l_N = [10, 100, 1000, 10000, 100000, 1000000]`). As a recommendation, you can store the computational times into a matrix of `n_rep` columns and `l_N` rows."
   ]
  },
  {
   "cell_type": "code",
   "execution_count": null,
   "metadata": {
    "id": "IX2eSKPUWC5Z"
   },
   "outputs": [],
   "source": [
    "l_N = [10, 100, 1000, 10000, 100000, 1000000]"
   ]
  },
  {
   "cell_type": "code",
   "execution_count": null,
   "metadata": {
    "id": "lsqOWAM89Q1o"
   },
   "outputs": [],
   "source": [
    "# your code here"
   ]
  },
  {
   "cell_type": "markdown",
   "metadata": {
    "id": "feJXXhbW9bF6"
   },
   "source": [
    "6. Make a plot that shows how the speed-up changes when the size of the problem increases (i.e., $N$). Do this for $Speedup_{py,p}$ and $Speedup_{njit,p}$, *separately*. \n",
    "\n",
    "   Use `plt.errorbar(l_N, mean_speedup, std_speedup)` to show your results. For more information about errorbar, check [this](https://matplotlib.org/stable/api/_as_gen/matplotlib.pyplot.errorbar.html).\n"
   ]
  },
  {
   "cell_type": "code",
   "execution_count": null,
   "metadata": {
    "id": "Wef6hxZNWOFL"
   },
   "outputs": [],
   "source": [
    "import matplotlib.pyplot as plt"
   ]
  },
  {
   "cell_type": "code",
   "execution_count": null,
   "metadata": {
    "id": "1Nqrp0K4WMZK"
   },
   "outputs": [],
   "source": [
    "# your code here"
   ]
  },
  {
   "cell_type": "markdown",
   "metadata": {
    "id": "LAPx5Z0BTHwG"
   },
   "source": [
    "7. Finally, plot both speed-up. To see the differences, add `plt.loglog()` and `\n",
    "plt.axhline(1, color='k', alpha=0.3, ls='--')` at the end of each cell. Your plots will change both x- and y-axis to log-scale. What can we conclude from these results?"
   ]
  },
  {
   "cell_type": "code",
   "execution_count": null,
   "metadata": {
    "id": "MJiIyyvQ9ac6"
   },
   "outputs": [],
   "source": [
    "# your code here\n",
    "plt.loglog()\n",
    "plt.axhline(1, color='k', alpha=0.3, ls='--')"
   ]
  },
  {
   "cell_type": "markdown",
   "metadata": {
    "id": "_I3TeUyFFATC"
   },
   "source": [
    "### 3.5.2. Solutions"
   ]
  },
  {
   "cell_type": "markdown",
   "metadata": {
    "id": "vC9zknqvFCcX"
   },
   "source": [
    "### 3.5.2. [DELETE] Solutions"
   ]
  },
  {
   "cell_type": "markdown",
   "metadata": {
    "id": "cOvJDeFZVdBV"
   },
   "source": [
    "1. Create two vectors `x` and `y` that contain $N$ random values between 0 and 1."
   ]
  },
  {
   "cell_type": "code",
   "execution_count": null,
   "metadata": {
    "id": "qcycG6NFHnrU"
   },
   "outputs": [],
   "source": [
    "import numpy as np"
   ]
  },
  {
   "cell_type": "code",
   "execution_count": null,
   "metadata": {
    "id": "XWgaxdzGHePT"
   },
   "outputs": [],
   "source": [
    "N = 1_000_000\n",
    "x = np.random.randint(1000, size=N)/1000.\n",
    "y = np.random.randint(1000, size=N)/1000."
   ]
  },
  {
   "cell_type": "markdown",
   "metadata": {
    "id": "zIrM5jJGVdBW"
   },
   "source": [
    "2. Compute the euclidean distance between the two vectors: $d(a,b) = \\sqrt{(x_1 - y_1)^2+(x_2 - y_2)^2+ \\dots + (x_N - y_N)^2}$.\n",
    "\n",
    "Use pure python for this (e.g., `import math` for square root computation). "
   ]
  },
  {
   "cell_type": "code",
   "execution_count": null,
   "metadata": {
    "id": "cJYk22rxHu_k"
   },
   "outputs": [],
   "source": [
    "def py_euclidean_distance(x,y):\n",
    "    distance = 0.\n",
    "    for i in range(len(x)):\n",
    "        distance = distance + (x[i]-y[i])**2\n",
    "    return distance "
   ]
  },
  {
   "cell_type": "markdown",
   "metadata": {
    "id": "R8etGhOfVdBW"
   },
   "source": [
    "3. Make a copy of such function and make it `jit(nopython=True)` and parallel via `@jit(nopython=True, parallel=True)`."
   ]
  },
  {
   "cell_type": "code",
   "execution_count": null,
   "metadata": {
    "id": "iNxyORw3IyrU"
   },
   "outputs": [],
   "source": [
    "from numba import jit, prange"
   ]
  },
  {
   "cell_type": "code",
   "execution_count": null,
   "metadata": {
    "id": "i5XRFDJZIscU"
   },
   "outputs": [],
   "source": [
    "@jit(nopython=True)\n",
    "def njit_euclidean_distance(x,y):\n",
    "    distance = 0.\n",
    "    for i in range(len(x)):\n",
    "        distance = distance + (x[i]-y[i])**2\n",
    "    return distance \n",
    "\n",
    "@jit(nopython=True, parallel=True)\n",
    "def parallel_euclidean_distance(x,y):\n",
    "    distance = 0.\n",
    "    for i in prange(len(x)):\n",
    "        distance = distance + (x[i]-y[i])**2\n",
    "    return distance "
   ]
  },
  {
   "cell_type": "code",
   "execution_count": null,
   "metadata": {
    "id": "2bjhMAKyKjwG"
   },
   "outputs": [],
   "source": [
    "import matplotlib.pyplot as plt"
   ]
  },
  {
   "cell_type": "markdown",
   "metadata": {
    "id": "eqTc4FbpVdBX"
   },
   "source": [
    "4. Execute all these functions and saves their execution times for 10 repetitions. \n",
    "\n",
    "   Compute the speed-ups as follows:\n",
    "   + Python method vs Parallel:  $speed-up_{py, p} = \\bar{time}_{py} / \\bar{time}_{p}$.\n",
    "   + Compiled method vs Parallel:  $speed-up_{njit, p} = \\bar{time}_{njit} / \\bar{time}_{p}$.\n",
    "\n",
    "  Note: $\\bar{time}_{i,j}$ is the average execution time between methods $i$ and $j$.\n",
    "\n",
    "  Print both speed-ups (mean and std).\n"
   ]
  },
  {
   "cell_type": "code",
   "execution_count": null,
   "metadata": {
    "id": "8foP_HySJLA0"
   },
   "outputs": [],
   "source": [
    "from time import time\n",
    "exec_times = np.zeros(shape=(3, 10))"
   ]
  },
  {
   "cell_type": "code",
   "execution_count": null,
   "metadata": {
    "id": "dEfixqN5Jv_l"
   },
   "outputs": [],
   "source": [
    "my_methods = [\n",
    "    py_euclidean_distance, njit_euclidean_distance, parallel_euclidean_distance\n",
    "]"
   ]
  },
  {
   "cell_type": "code",
   "execution_count": null,
   "metadata": {
    "colab": {
     "base_uri": "https://localhost:8080/"
    },
    "id": "PP7dK9F6JRl0",
    "outputId": "2bd1ee16-4b1e-47f6-8e65-abfb3415b4d9"
   },
   "outputs": [
    {
     "name": "stderr",
     "output_type": "stream",
     "text": [
      "/usr/local/lib/python3.7/dist-packages/numba/np/ufunc/parallel.py:363: NumbaWarning: The TBB threading layer requires TBB version 2019.5 or later i.e., TBB_INTERFACE_VERSION >= 11005. Found TBB_INTERFACE_VERSION = 9107. The TBB threading layer is disabled.\n",
      "  warnings.warn(problem)\n"
     ]
    }
   ],
   "source": [
    "for i in range(len(my_methods)):\n",
    "    f = my_methods[i]\n",
    "    for j in range(10):\n",
    "        t = time()\n",
    "        f(x,y)\n",
    "        t = time()-t\n",
    "        exec_times[i,j] = t"
   ]
  },
  {
   "cell_type": "code",
   "execution_count": null,
   "metadata": {
    "colab": {
     "base_uri": "https://localhost:8080/"
    },
    "id": "exvhM8nmKxfF",
    "outputId": "710aee3e-4a59-435e-cb6a-80596034928a"
   },
   "outputs": [
    {
     "data": {
      "text/plain": [
       "array([[0.64537978, 0.63093066, 0.79584622, 0.80611014, 0.76738954,\n",
       "        0.6186738 , 0.6139524 , 0.598382  , 0.61105275, 0.63395953],\n",
       "       [0.11797428, 0.00234175, 0.0022707 , 0.00217056, 0.00214028,\n",
       "        0.00212193, 0.00211096, 0.00215507, 0.00222754, 0.00212765],\n",
       "       [0.53871512, 0.00181937, 0.00161648, 0.0013535 , 0.00119114,\n",
       "        0.00110722, 0.00104785, 0.00099158, 0.00096893, 0.00097132]])"
      ]
     },
     "execution_count": 41,
     "metadata": {},
     "output_type": "execute_result"
    }
   ],
   "source": [
    "exec_times"
   ]
  },
  {
   "cell_type": "code",
   "execution_count": null,
   "metadata": {
    "colab": {
     "base_uri": "https://localhost:8080/"
    },
    "id": "hSowCOW_KZDO",
    "outputId": "a99b4bde-0057-4db2-9ce6-42ac9bd73e8b"
   },
   "outputs": [
    {
     "name": "stdout",
     "output_type": "stream",
     "text": [
      "Speed-up(pu, p) = [  1.19799826 346.78482506 492.33348083 595.57354236 644.24839872\n",
      " 558.76528854 585.91649602 603.46140899 630.6449311  652.68016691]\n",
      "Speed-up(njit, p) = [  1.19799826 346.78482506 492.33348083 595.57354236 644.24839872\n",
      " 558.76528854 585.91649602 603.46140899 630.6449311  652.68016691]\n"
     ]
    }
   ],
   "source": [
    "speedup_py = exec_times[0]/exec_times[-1]\n",
    "speedup_njit = exec_times[1]/exec_times[-1]\n",
    "print(\"Speed-up(pu, p) =\", speedup_py)\n",
    "print(\"Speed-up(njit, p) =\", speedup_py)"
   ]
  },
  {
   "cell_type": "code",
   "execution_count": null,
   "metadata": {
    "id": "7czKExuwOBKY"
   },
   "outputs": [],
   "source": [
    "mean_speedup_py = np.mean(speedup_py)\n",
    "std_speedup_py = np.std(speedup_py)\n",
    "mean_speedup_njit = np.mean(speedup_njit)\n",
    "std_speedup_njit = np.std(speedup_njit)"
   ]
  },
  {
   "cell_type": "code",
   "execution_count": null,
   "metadata": {
    "colab": {
     "base_uri": "https://localhost:8080/"
    },
    "id": "5nPwAL-nOTkA",
    "outputId": "89e2990c-c471-48e1-ebff-350ad9575549"
   },
   "outputs": [
    {
     "name": "stdout",
     "output_type": "stream",
     "text": [
      "Speed-up(pu, p)   = mean:511.16\tstd:190.51\n",
      "Speed-up(njit, p) = mean:1.69\tstd:0.59\n"
     ]
    }
   ],
   "source": [
    "print(\"Speed-up(pu, p)   = mean:%.2f\\tstd:%.2f\" % (mean_speedup_py, std_speedup_py))\n",
    "print(\"Speed-up(njit, p) = mean:%.2f\\tstd:%.2f\" % (mean_speedup_njit, std_speedup_njit))"
   ]
  },
  {
   "cell_type": "markdown",
   "metadata": {
    "id": "RDkeYhjvVdBY"
   },
   "source": [
    "\n",
    "5. Repeat this same procedure but change the length of the vectors $N$ (e.g., `l_N = [10, 100, 1000, 10000, 100000, 1000000]`). As a recommendation, you can store the computational times into a matrix of `n_rep` columns and `l_N` rows."
   ]
  },
  {
   "cell_type": "code",
   "execution_count": null,
   "metadata": {
    "id": "OQTvPCc0P3BR"
   },
   "outputs": [],
   "source": [
    "l_N = [10, 100, 1000, 10000, 100000, 1000000]"
   ]
  },
  {
   "cell_type": "code",
   "execution_count": null,
   "metadata": {
    "id": "hvs1lI2mPskH"
   },
   "outputs": [],
   "source": [
    "exec_times_N = np.zeros(shape=(3,10,len(l_N)))\n",
    "for i_N in range(len(l_N)):\n",
    "    # generating arrays\n",
    "    N = l_N[i_N]\n",
    "    x = np.random.randint(1000, size=N)/1000.\n",
    "    y = np.random.randint(1000, size=N)/1000.\n",
    "\n",
    "    for i in range(len(my_methods)):\n",
    "        f = my_methods[i]\n",
    "        for j in range(10):\n",
    "            t = time()\n",
    "            f(x,y)\n",
    "            t = time()-t\n",
    "            exec_times_N[i,j,i_N] = t"
   ]
  },
  {
   "cell_type": "code",
   "execution_count": null,
   "metadata": {
    "colab": {
     "base_uri": "https://localhost:8080/"
    },
    "id": "O2T7H3ZrQYfq",
    "outputId": "041303eb-1222-4bdc-e4b8-270616359bc2"
   },
   "outputs": [
    {
     "data": {
      "text/plain": [
       "(3, 10, 6)"
      ]
     },
     "execution_count": 73,
     "metadata": {},
     "output_type": "execute_result"
    }
   ],
   "source": [
    "exec_times_N.shape"
   ]
  },
  {
   "cell_type": "code",
   "execution_count": null,
   "metadata": {
    "colab": {
     "base_uri": "https://localhost:8080/"
    },
    "id": "okUp655tQ1aX",
    "outputId": "cc4bf4dd-af40-4f08-87df-b0f0c7ff6f53"
   },
   "outputs": [
    {
     "data": {
      "text/plain": [
       "((10, 6), (6,))"
      ]
     },
     "execution_count": 74,
     "metadata": {},
     "output_type": "execute_result"
    }
   ],
   "source": [
    "py_speed_up = exec_times_N[0,:,:] / exec_times_N[1,:,:]\n",
    "py_speed_up.shape, np.mean(py_speed_up, axis=0).shape"
   ]
  },
  {
   "cell_type": "code",
   "execution_count": null,
   "metadata": {
    "id": "S5uH-bQfQbmx"
   },
   "outputs": [],
   "source": [
    "py_speed_up = exec_times_N[0,:,:] / exec_times_N[2,:,:]\n",
    "py_mean_su = np.mean(py_speed_up, axis=0)\n",
    "py_std_su = np.std(py_speed_up, axis=0)\n",
    "\n",
    "njit_speed_up = exec_times_N[1,:,:] / exec_times_N[2,:,:]\n",
    "njit_mean_su = np.mean(njit_speed_up, axis=0)\n",
    "njit_std_su = np.std(njit_speed_up, axis=0)"
   ]
  },
  {
   "cell_type": "code",
   "execution_count": null,
   "metadata": {
    "colab": {
     "base_uri": "https://localhost:8080/"
    },
    "id": "v1gOpu_YRqe1",
    "outputId": "8e284df9-f2c8-492a-d679-18bc11dd6f1e"
   },
   "outputs": [
    {
     "data": {
      "text/plain": [
       "array([[8.36849213e-05, 1.93119049e-05, 7.67230988e-03, 1.13010406e-04,\n",
       "        2.19345093e-03, 1.81078911e-03],\n",
       "       [4.29153442e-06, 3.57627869e-06, 2.16960907e-05, 1.43051147e-05,\n",
       "        9.34600830e-05, 1.02758408e-03],\n",
       "       [3.09944153e-06, 3.33786011e-06, 4.29153442e-06, 1.19209290e-05,\n",
       "        8.58306885e-05, 1.00708008e-03],\n",
       "       [3.09944153e-06, 3.09944153e-06, 3.81469727e-06, 1.19209290e-05,\n",
       "        8.17775726e-05, 9.85860825e-04],\n",
       "       [2.86102295e-06, 3.33786011e-06, 4.05311584e-06, 1.19209290e-05,\n",
       "        9.01222229e-05, 9.52959061e-04],\n",
       "       [3.09944153e-06, 3.09944153e-06, 4.05311584e-06, 1.16825104e-05,\n",
       "        8.05854797e-05, 9.41276550e-04],\n",
       "       [3.09944153e-06, 3.33786011e-06, 3.81469727e-06, 1.21593475e-05,\n",
       "        8.10623169e-05, 8.91923904e-04],\n",
       "       [3.33786011e-06, 3.33786011e-06, 4.05311584e-06, 1.16825104e-05,\n",
       "        8.10623169e-05, 8.94069672e-04],\n",
       "       [3.09944153e-06, 3.09944153e-06, 4.05311584e-06, 1.19209290e-05,\n",
       "        8.32080841e-05, 8.93592834e-04],\n",
       "       [3.09944153e-06, 3.33786011e-06, 3.81469727e-06, 1.19209290e-05,\n",
       "        8.05854797e-05, 9.03606415e-04]])"
      ]
     },
     "execution_count": 76,
     "metadata": {},
     "output_type": "execute_result"
    }
   ],
   "source": [
    "exec_times_N[2,:,:]"
   ]
  },
  {
   "cell_type": "markdown",
   "metadata": {
    "id": "ov7m_GBJVdBY"
   },
   "source": [
    "6. Make a plot that shows how the speed-up changes when the size of the problem increases (i.e., $N$). Do this for $Speedup_{py,p}$ and $Speedup_{njit,p}$, *separately*. \n",
    "\n",
    "   Use `plt.errorbar(l_N, mean_speedup, std_speedup)` to show your results. For more information about errorbar, check [this](https://matplotlib.org/stable/api/_as_gen/matplotlib.pyplot.errorbar.html).\n"
   ]
  },
  {
   "cell_type": "code",
   "execution_count": null,
   "metadata": {
    "colab": {
     "base_uri": "https://localhost:8080/",
     "height": 297
    },
    "id": "BDnJP4ksRXbL",
    "outputId": "266df536-ca5c-442a-fb92-c71761090205"
   },
   "outputs": [
    {
     "data": {
      "text/plain": [
       "Text(0.5, 0, 'N (problem size)')"
      ]
     },
     "execution_count": 92,
     "metadata": {},
     "output_type": "execute_result"
    },
    {
     "data": {
      "image/png": "[encoded data removed]",
      "text/plain": [
       "<Figure size 432x288 with 1 Axes>"
      ]
     },
     "metadata": {
      "needs_background": "light"
     },
     "output_type": "display_data"
    }
   ],
   "source": [
    "f, ax = plt.subplots(figsize=(6,4))\n",
    "ax.errorbar(l_N, py_mean_su, py_std_su, label='py') \n",
    "ax.set_ylabel(\"Speedup\")\n",
    "ax.set_xlabel(\"N (problem size)\")"
   ]
  },
  {
   "cell_type": "code",
   "execution_count": null,
   "metadata": {
    "colab": {
     "base_uri": "https://localhost:8080/",
     "height": 297
    },
    "id": "SaWX1xk9SchQ",
    "outputId": "3ad0ba4f-2419-44cf-fc78-307fa0d98279"
   },
   "outputs": [
    {
     "data": {
      "text/plain": [
       "Text(0.5, 0, 'N (problem size)')"
      ]
     },
     "execution_count": 93,
     "metadata": {},
     "output_type": "execute_result"
    },
    {
     "data": {
      "image/png": "[encoded data removed]",
      "text/plain": [
       "<Figure size 432x288 with 1 Axes>"
      ]
     },
     "metadata": {
      "needs_background": "light"
     },
     "output_type": "display_data"
    }
   ],
   "source": [
    "f, ax = plt.subplots(figsize=(6,4))\n",
    "ax.errorbar(l_N, njit_mean_su, njit_std_su, label='py') \n",
    "ax.set_ylabel(\"Speedup\")\n",
    "ax.set_xlabel(\"N (problem size)\")"
   ]
  },
  {
   "cell_type": "markdown",
   "metadata": {
    "id": "3V95HHmDVdBZ"
   },
   "source": [
    "7. Finally, plot both speed-up. To see the differences, add `plt.loglog()` and `\n",
    "plt.axhline(1, color='k', alpha=0.3, ls='--')` at the end of each cell. Your plots will change both x- and y-axis to log-scale. What can we conclude from these results?"
   ]
  },
  {
   "cell_type": "code",
   "execution_count": null,
   "metadata": {
    "colab": {
     "base_uri": "https://localhost:8080/",
     "height": 305
    },
    "id": "ejM1lRelImcM",
    "outputId": "39250637-340f-4f5b-9486-5f6444bacb33"
   },
   "outputs": [
    {
     "data": {
      "text/plain": [
       "Text(0.5, 0, 'N [LOG]')"
      ]
     },
     "execution_count": 100,
     "metadata": {},
     "output_type": "execute_result"
    },
    {
     "data": {
      "image/png": "[encoded data removed]",
      "text/plain": [
       "<Figure size 432x288 with 1 Axes>"
      ]
     },
     "metadata": {
      "needs_background": "light"
     },
     "output_type": "display_data"
    }
   ],
   "source": [
    "f, ax = plt.subplots(figsize=(6,4))\n",
    "ax.errorbar(l_N, py_mean_su, py_std_su, color='blue') \n",
    "ax.errorbar(l_N, njit_mean_su, njit_std_su, color='k') \n",
    "plt.loglog()\n",
    "plt.axhline(1, color='k', alpha=0.3, ls='--')\n",
    "ax.set_ylabel(\"Speedup [lOG]\", fontsize=14)\n",
    "ax.set_xlabel(\"N [LOG]\", fontsize=14)"
   ]
  },
  {
   "cell_type": "markdown",
   "metadata": {
    "id": "lvA3NDalFhuq"
   },
   "source": [
    "---"
   ]
  },
  {
   "cell_type": "markdown",
   "metadata": {
    "id": "qJ7mgYBMhRMW"
   },
   "source": [
    "# Troubleshooting"
   ]
  },
  {
   "cell_type": "markdown",
   "metadata": {
    "id": "XgfP-b7olP7Z"
   },
   "source": [
    "#### Installing Numba + CUDA on Google Colab!\n",
    "\n",
    "`(src=https://thedatafrog.com/en/articles/boost-python-gpu/)`\n",
    "\n",
    "We need to add two libraries: `libdevice` and `libnvvm.so`.\n",
    "\n",
    "In order to find it we nee to run:\n"
   ]
  },
  {
   "cell_type": "code",
   "execution_count": null,
   "metadata": {
    "colab": {
     "base_uri": "https://localhost:8080/"
    },
    "id": "ud875YEtJVqE",
    "outputId": "b8298142-a374-4c99-b2e6-274cdccbf96e"
   },
   "outputs": [
    {
     "name": "stdout",
     "output_type": "stream",
     "text": [
      "/usr/local/lib/python3.7/dist-packages/jaxlib/cuda/nvvm/libdevice\n",
      "/usr/local/cuda-11.0/nvvm/libdevice\n",
      "/usr/local/cuda-11.1/nvvm/libdevice\n",
      "/usr/local/cuda-10.0/nvvm/libdevice\n",
      "/usr/local/cuda-10.1/nvvm/libdevice\n",
      "find: ‘/proc/34/task/34/net’: Invalid argument\n",
      "find: ‘/proc/34/net’: Invalid argument\n"
     ]
    }
   ],
   "source": [
    "!find / -iname 'libdevice'"
   ]
  },
  {
   "cell_type": "code",
   "execution_count": null,
   "metadata": {
    "colab": {
     "base_uri": "https://localhost:8080/"
    },
    "id": "ApKCGqXUJVss",
    "outputId": "99401a31-7e3e-4d53-e26c-40feae19e5b6"
   },
   "outputs": [
    {
     "name": "stdout",
     "output_type": "stream",
     "text": [
      "/usr/local/cuda-11.0/nvvm/lib64/libnvvm.so\n",
      "/usr/local/cuda-11.1/nvvm/lib64/libnvvm.so\n",
      "/usr/local/cuda-10.0/nvvm/lib64/libnvvm.so\n",
      "/usr/local/cuda-10.1/nvvm/lib64/libnvvm.so\n",
      "find: ‘/proc/34/task/34/net’: Invalid argument\n",
      "find: ‘/proc/34/net’: Invalid argument\n"
     ]
    }
   ],
   "source": [
    "!find / -iname 'libnvvm.so'"
   ]
  },
  {
   "cell_type": "markdown",
   "metadata": {
    "id": "2AgPcnUWlZhY"
   },
   "source": [
    "Finally, execute the cell below:"
   ]
  },
  {
   "cell_type": "code",
   "execution_count": null,
   "metadata": {
    "id": "D4EYfDnOJVx6"
   },
   "outputs": [],
   "source": [
    "import os\n",
    "os.environ['NUMBAPRO_LIBDEVICE'] = \"/usr/local/lib/python3.7/dist-packages/jaxlib/cuda/nvvm/libdevice\"\n",
    "os.environ['NUMBAPRO_NVVM'] = \"/usr/local/cuda-10.0/nvvm/lib64/libnvvm.so\""
   ]
  },
  {
   "cell_type": "code",
   "execution_count": null,
   "metadata": {
    "id": "qvgC4XWO1zH3"
   },
   "outputs": [],
   "source": []
  },
  {
   "cell_type": "markdown",
   "metadata": {},
   "source": [
    "----\n",
    "\n",
    "Day #2 of the summer course \"_Introduction to High-Performance Computing in Python for Scientists!_\". \n",
    "\n",
    "\n",
    "[Goethe Research Academy for Early Career Researchers (GRADE)](https://www.goethe-university-frankfurt.de/), Goethe University Frankfurt, Germany. June 2022.\n",
    "\n",
    "---"
   ]
  }
 ],
 "metadata": {
  "accelerator": "GPU",
  "colab": {
   "collapsed_sections": [],
   "name": "TCR-HPC-D2_github  -  Introduction to HPC and applications in Python.ipynb",
   "provenance": [],
   "toc_visible": true
  },
  "gpuClass": "standard",
  "kernelspec": {
   "display_name": "Python 3",
   "language": "python",
   "name": "python3"
  },
  "language_info": {
   "codemirror_mode": {
    "name": "ipython",
    "version": 3
   },
   "file_extension": ".py",
   "mimetype": "text/x-python",
   "name": "python",
   "nbconvert_exporter": "python",
   "pygments_lexer": "ipython3",
   "version": "3.8.5"
  }
 },
 "nbformat": 4,
 "nbformat_minor": 1
}
