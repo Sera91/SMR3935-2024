{
  "cells": [
    {
      "cell_type": "markdown",
      "metadata": {
        "id": "8R8380GBpj1f"
      },
      "source": [
        "# Lecture on Numba\n",
        "## JIT Compilation in Python\n",
        "\n",
        "![](images/028.png)\n",
        "\n",
        "## What is Numba?\n",
        "\n",
        "![](images/030.PNG)\n",
        "\n",
        "Numba is a just-in-time compiler for Python.\n",
        "\n",
        "Numba is best used for loops, numpy arrays operations and functions.\n",
        "\n",
        "Some of its properties are:\n",
        "1. Compile Python code into an intermediate code readable for LLVM (Low Level Virtual Machine).\n",
        "2. Vectorize functions.\n",
        "3. Run functions in parallel both Multi-CPU and GPU cores.\n",
        "4. Easy to use thanks to decorators.\n",
        "\n",
        "Here, we want to gain speed without having to change many lines in our programs. \n",
        "\n",
        "Due to Python is a high-level language, we need to generate a low-level intermediate language through compilation to obtain a significant speedup.\n",
        "\n",
        "\n",
        "\n",
        "The most common way to use Numba is through its collection of decorators:\n",
        "\n",
        "\n",
        "\n",
        "Numba can be installed\n",
        "inside conda environment as:\n",
        "```\n",
        "$ conda install numba\n",
        "```\n",
        "with pip as:\n",
        "```\n",
        "$ pip install numba\n",
        "```"
      ]
    },
    {
      "cell_type": "markdown",
      "metadata": {
        "id": "UeJp6zyvsLiR"
      },
      "source": [
        "Numba is often used as a core package so its dependencies are kept to an\n",
        "absolute minimum, however, extra packages can be installed as follows to provide\n",
        "additional functionality:\n",
        "\n",
        "* ``scipy`` - enables support for compiling ``numpy.linalg`` functions.\n",
        "* ``colorama`` - enables support for color highlighting in backtraces/error\n",
        "  messages.\n",
        "* ``pyyaml`` - enables configuration of Numba via a YAML config file.\n",
        "* ``intel-cmplr-lib-rt`` - allows the use of the Intel SVML (high performance\n",
        "  short vector math library, x86_64 only). Installation instructions are in the\n",
        "  :ref:`performance tips <intel-svml>`.\n",
        "\n"
      ]
    },
    {
      "cell_type": "markdown",
      "metadata": {
        "id": "EueqgCO7mlZ9"
      },
      "source": [
        "If you ask yourselves:\n",
        "Will Numba work for my code?\n",
        "\n",
        "Numba works well on code that looks like this::\n",
        "```python\n",
        "    from numba import jit\n",
        "    import numpy as np\n",
        "\n",
        "    x = np.arange(100).reshape(10, 10)\n",
        "\n",
        "    @jit(nopython=True) # Set \"nopython\" mode for best performance, equivalent to @njit\n",
        "    def go_fast(a): # Function is compiled to machine code when called the first time\n",
        "        trace = 0.0\n",
        "        for i in range(a.shape[0]):   # Numba likes loops\n",
        "            trace += np.tanh(a[i, i]) # Numba likes NumPy functions\n",
        "        return a + trace              # Numba likes NumPy broadcasting\n",
        "\n",
        "    print(go_fast(x))\n",
        "```\n",
        "\n",
        "It won't work very well, if at all, on code that looks like this::\n",
        "```python\n",
        "    from numba import jit\n",
        "    import pandas as pd\n",
        "\n",
        "    x = {'a': [1, 2, 3], 'b': [20, 30, 40]}\n",
        "\n",
        "    @jit\n",
        "    def use_pandas(a): # Function will not benefit from Numba jit\n",
        "        df = pd.DataFrame.from_dict(a) # Numba doesn't know about pd.DataFrame\n",
        "        df += 1                        # Numba doesn't understand what this is\n",
        "        return df.cov()                # or this!\n",
        "\n",
        "    print(use_pandas(x))\n",
        "\n",
        "```\n",
        "\n",
        "Note that Pandas is not understood by Numba and as a result Numba would simply\n",
        "run this code via the interpreter but with the added cost of the Numba internal\n",
        "overheads!"
      ]
    },
    {
      "cell_type": "markdown",
      "metadata": {
        "id": "yG9eNPxnsGw9"
      },
      "source": [
        "How to measure the performance of Numba?\n",
        "----------------------------------------\n",
        "We need to remember that Numba has to compile your function for the argument types\n",
        "given before it executes the machine code version of your function. This takes\n",
        "time. However, once the compilation has taken place Numba caches the machine\n",
        "code version of your function for the particular types of arguments presented.\n",
        "If it is called again with the same types, it can reuse the cached version\n",
        "instead of having to compile again.\n",
        "\n",
        "A really common mistake when measuring performance is to not account for the compiling time and to time code once with a simple timer that includes the\n",
        "time taken to compile your function in the execution time.\n",
        "\n"
      ]
    },
    {
      "cell_type": "code",
      "execution_count": null,
      "metadata": {
        "colab": {
          "base_uri": "https://localhost:8080/"
        },
        "id": "2KPP0VpQsF-A",
        "outputId": "0b989418-45d7-454b-cb4c-8a29eb89e98f"
      },
      "outputs": [
        {
          "name": "stdout",
          "output_type": "stream",
          "text": [
            "Elapsed (with compilation) = 0.23587280600000327s\n",
            "Elapsed (without compilation) = 8.881700000529236e-05s\n"
          ]
        }
      ],
      "source": [
        "#BAD EXAMPLE\n",
        "from numba import jit\n",
        "import numpy as np\n",
        "import time\n",
        "\n",
        "x = np.arange(100).reshape(10, 10)\n",
        "\n",
        "@jit(nopython=True)\n",
        "def go_fast(a): # Function is compiled and runs in machine code\n",
        "        trace = 0.0\n",
        "        for i in range(a.shape[0]):\n",
        "            trace += np.tanh(a[i, i])\n",
        "        return a + trace\n",
        "\n",
        "# THE FIRST TIME WE TIME THE FUNCTION COMPILATION TIME IS INCLUDED IN THE EXECUTION TIME!\n",
        "start = time.perf_counter()\n",
        "go_fast(x)\n",
        "end = time.perf_counter()\n",
        "print(\"Elapsed (with compilation) = {}s\".format((end - start)))\n",
        "\n",
        "# NOW THE FUNCTION IS COMPILED, IF WE RE-TIME IT:\n",
        "start = time.perf_counter()\n",
        "go_fast(x)\n",
        "end = time.perf_counter()\n",
        "print(\"Elapsed (without compilation) = {}s\".format((end - start)))\n"
      ]
    },
    {
      "cell_type": "markdown",
      "metadata": {
        "id": "WJWbCRkCtJqM"
      },
      "source": [
        "A good way of timing numba function is using the magic command timeit (we will see examples now)"
      ]
    },
    {
      "cell_type": "markdown",
      "metadata": {
        "id": "gCj9ggnyngiC"
      },
      "source": [
        "#NUMBA DECORATORS\n",
        "\n",
        "The more important decorators in Numba are\n",
        "\n",
        "- @jit &@njit - Decorators to speed up almost any python function.\n",
        "- @vectorize - Decorator to speed up numpy-like universal functions.\n",
        "- @guvectorize - Decorator which is an extended version of @vectorize decorator.\n",
        "- @stencil - Decorator which speeds up function performing stencil kernel operations like convolution, correlation, etc.\n",
        "\n",
        "\n",
        "\n",
        "The Numba @jit decorator fundamentally operates in two compilation modes, nopython mode and object mode.\n",
        "\n",
        "If we define the `@jit` decorator with the parameter `nopython=True`, the decorated function will run enterily without the involvement of the Python Interpreter.\n",
        "\n",
        "This is the recommended and best-practice way.\n",
        "\n",
        "\n",
        "The @vectorize decorator requires us to specify possible data types of input and output of the function, in order to create a compiled version for each data type. The data type should be in order from less memory data type to more memory data type.\n",
        "Apart from datatypes, it accepts two other arguments.\n",
        "\n",
        "target - This argument accepts one of the below-mentioned three strings as input specifying how to further speed up code based on available resources.\n",
        "'cpu' - This is default argument. It's used for a single-core (single-threaded) CPU.\n",
        "'parallel' - This argument runs code in parallel on multi-core (multi-threaded) CPU.\n",
        "'cuda' - This argument is set for GPU.\n",
        "cache - This parameter accepts boolean values specifying whether to use caching to speed up reruns of the same function again and again with the same inputs."
      ]
    },
    {
      "cell_type": "markdown",
      "metadata": {
        "id": "RO8qyFxGn55x"
      },
      "source": [
        "How fast can Numba be?\n",
        "---------------\n",
        "Assuming Numba can operate in ``nopython`` mode, or at least compile some loops,\n",
        "it will target compilation to your specific CPU. Speed up varies depending on\n",
        "application but can be one to two orders of magnitude."
      ]
    },
    {
      "cell_type": "code",
      "execution_count": null,
      "metadata": {
        "colab": {
          "base_uri": "https://localhost:8080/"
        },
        "id": "_Oxn6zlIm1_I",
        "outputId": "9b1600d7-b6f7-4523-cf3f-a6433953874a"
      },
      "outputs": [
        {
          "name": "stdout",
          "output_type": "stream",
          "text": [
            "Numba Version : 0.58.1\n",
            "The time taken with Numba jit, in Python mode, it is \n",
            "\n"
          ]
        },
        {
          "name": "stderr",
          "output_type": "stream",
          "text": [
            "<ipython-input-4-8bd850a33833>:14: NumbaDeprecationWarning: The keyword argument 'nopython=False' was supplied. From Numba 0.59.0 the default is being changed to True and use of 'nopython=False' will raise a warning as the argument will have no effect. See https://numba.readthedocs.io/en/stable/reference/deprecation.html#deprecation-of-object-mode-fall-back-behaviour-when-using-jit for details.\n",
            "  @jit(nopython=False)\n"
          ]
        },
        {
          "name": "stdout",
          "output_type": "stream",
          "text": [
            "37.2 ms ± 1.44 ms per loop (mean ± std. dev. of 7 runs, 10 loops each)\n",
            "The time taken with Numba jit, in no Python mode, it is \n",
            "\n",
            "55.5 ms ± 1.73 ms per loop (mean ± std. dev. of 7 runs, 10 loops each)\n"
          ]
        }
      ],
      "source": [
        "import numba\n",
        "\n",
        "print(\"Numba Version : {}\".format(numba.__version__))\n",
        "\n",
        "import numpy as np\n",
        "import timeit\n",
        "from numba import jit\n",
        "\n",
        "def cube_formula(x):\n",
        "    return x**3 + 3*x**2 + 3\n",
        "\n",
        "#cube_formula_jitted = jit(cube_formula)\n",
        "\n",
        "@jit(nopython=False)\n",
        "def cube_formula_jitted(x):\n",
        "    xs = []\n",
        "    for i in x:\n",
        "        xs.append(i**3 + 3*i**2 + 3)\n",
        "    return xs\n",
        "\n",
        "\n",
        "arr = np.arange(1, 1000000, dtype=np.int64)\n",
        "\n",
        "#print(\"The time taken with Numba jit, in Python mode is \",timeit.timeit(stmt='cube_formula_jitted(arr)'))\n",
        "print(\"The time taken with Numba jit, in Python mode, it is \\n\")\n",
        "\n",
        "%timeit cube_formula_jitted(arr)\n",
        "\n",
        "@jit(nopython=True)\n",
        "def new_cube_formula_jitted(x):\n",
        "    xs = []\n",
        "    for i in x:\n",
        "        xs.append(i**3 + 3*i**2 + 3)\n",
        "\n",
        "    return xs\n",
        "\n",
        "print(\"The time taken with Numba jit, in no Python mode, it is \\n\")\n",
        "\n",
        "%timeit new_cube_formula_jitted(arr)\n",
        "#timeit.timeit(stmt='new_cube_formula_jitted(arr)', globals=globals()))\n",
        "\n",
        "\n"
      ]
    },
    {
      "cell_type": "code",
      "execution_count": null,
      "metadata": {
        "colab": {
          "base_uri": "https://localhost:8080/"
        },
        "id": "n9jPArLFoW1n",
        "outputId": "08ce5ab8-d569-45f8-a022-e6061e420ad1"
      },
      "outputs": [
        {
          "name": "stdout",
          "output_type": "stream",
          "text": [
            "The time taken with Numpy vectorize applied to the original formula is: \n",
            "\n",
            "916 ms ± 63.4 ms per loop (mean ± std. dev. of 7 runs, 1 loop each)\n",
            "The time taken with Numba jit is : \n",
            " \n",
            "1.07 ms ± 157 µs per loop (mean ± std. dev. of 7 runs, 1000 loops each)\n",
            "The time taken with Numba vectorized parallelized is \n",
            "763 µs ± 20 µs per loop (mean ± std. dev. of 7 runs, 1000 loops each)\n",
            "The time taken with Numba vectorized cached is \n",
            "1.08 ms ± 109 µs per loop (mean ± std. dev. of 7 runs, 1000 loops each)\n"
          ]
        }
      ],
      "source": [
        "\n",
        "from numba import vectorize, int64, float32, float64\n",
        "\n",
        "#COMPARING Numpy vectorize VS NUMBA vectorize\n",
        "\n",
        "vectorized_cube_formula = np.vectorize(cube_formula)\n",
        "\n",
        "print(\"The time taken with Numpy vectorize applied to the original formula is: \\n\")\n",
        "\n",
        "%timeit vectorized_cube_formula(arr)\n",
        "#print(timeit.timeit(stmt='vectorized_cube_formula(arr)', globals=globals()))\n",
        "\n",
        "\n",
        "\n",
        "@vectorize([int64(int64), float32(float32), float64(float64)])\n",
        "def cube_formula_numba_vec(x):\n",
        "    return x**3 + 3*x**2 + 3\n",
        "\n",
        "\n",
        "print(\"The time taken with Numba jit is : \\n \")\n",
        "%timeit cube_formula_numba_vec(arr)\n",
        "\n",
        "\n",
        "#NUMBA PARALLELIZED with multithreading\n",
        "\n",
        "@vectorize([int64(int64), float32(float32), float64(float64)], target=\"parallel\")\n",
        "def cube_formula_numba_vec_paralleled(x):\n",
        "    return x**3 + 3*x**2 + 3\n",
        "\n",
        "print(\"The time taken with Numba vectorized parallelized is \")\n",
        "\n",
        "%timeit cube_formula_numba_vec_paralleled(arr)\n",
        "\n",
        "\n",
        "#Caching in Numba\n",
        "@vectorize([int64(int64), float32(float32), float64(float64)], cache=True)\n",
        "def cube_formula_numba_vec_cached(x):\n",
        "    return x**3 + 3*x**2 + 3\n",
        "\n",
        "\n",
        "\n",
        "print(\"The time taken with Numba vectorized cached is \")\n",
        "\n",
        "%timeit cube_formula_numba_vec_cached(arr)\n",
        "\n"
      ]
    },
    {
      "cell_type": "markdown",
      "metadata": {
        "id": "GxoqtNdubnxu"
      },
      "source": [
        "#STENCIL KERNELS in NUMBA\n",
        "---------------------------------\n",
        "\n",
        "Stencils are a common computational pattern in which array elements are updated according to some fixed pattern called the stencil kernel. Numba provides the @stencil decorator so that users may easily specify a stencil kernel"
      ]
    },
    {
      "cell_type": "code",
      "execution_count": null,
      "metadata": {
        "id": "wLRPYJZtbxuh"
      },
      "outputs": [],
      "source": [
        "import numba\n",
        "from numba import stencil\n",
        "\n",
        "\n",
        "#Convolution in 1D\n",
        "def conv_op(a, b):\n",
        "    for i in range(a.shape[0]):\n",
        "        if i-1 < 0 or i+1 >= a.shape[0]:\n",
        "            b[i] = 0\n",
        "        else:\n",
        "            b[i] = a[i-1] + a[i] + a[i+1]\n",
        "\n",
        "input_arr = np.arange(1_000_000)\n",
        "output_arr = np.empty_like(input_arr)\n",
        "\n",
        "%timeit conv_op(input_arr,output_arr)\n",
        "\n",
        "@stencil\n",
        "def conv_op(a):\n",
        "    return a[-1] + a[0] + a[1]\n",
        "\n",
        "%timeit conv_op(input_arr)\n",
        "\n",
        "\n",
        "\n",
        "#Convolution in 2D\n",
        "\n",
        "def conv_op(a, b):\n",
        "    for i in range(a.shape[0]):\n",
        "        for j in range(a.shape[1]):\n",
        "            if i+1 == a.shape[0] or j+1 == a.shape[1]:\n",
        "                b[i,j] = 0\n",
        "            elif i-1 < 0 or j-1 < 0:\n",
        "                b[i,j] = 0\n",
        "            else:\n",
        "                b[i,j] = a[i, j+1] + a[i+1, j] + a[i, j-1] + a[i-1, j]\n",
        "\n",
        "input_arr = np.arange(1000_000).reshape((1000, 1000))\n",
        "output_arr = np.empty_like(input_arr)\n",
        "\n",
        "%timeit conv_op(input_arr, output_arr)\n",
        "\n",
        "\n",
        "@stencil\n",
        "def conv_op(a):\n",
        "    return a[0, 1] + a[1, 0] + a[0, -1] + a[-1, 0]\n",
        "\n",
        "\n",
        "%timeit output_arr = conv_op(input_arr)\n"
      ]
    },
    {
      "cell_type": "markdown",
      "metadata": {
        "id": "hXVvdXl83AW3"
      },
      "source": []
    },
    {
      "cell_type": "markdown",
      "metadata": {
        "id": "pj6h0FzM23cX"
      },
      "source": [
        "What if you do not know the type of arguments your function will return at compile time?\n",
        "Or, more in g"
      ]
    },
    {
      "cell_type": "code",
      "execution_count": null,
      "metadata": {
        "id": "HgqzY9Ul3FVI"
      },
      "outputs": [],
      "source": []
    },
    {
      "cell_type": "code",
      "execution_count": null,
      "metadata": {
        "id": "H91JyGA3gguT"
      },
      "outputs": [],
      "source": [
        "import numpy as np\n",
        "\n",
        "from numba import generated_jit, types\n",
        "\n",
        "@generated_jit(nopython=True)\n",
        "def is_missing(x):\n",
        "    \"\"\"\n",
        "    Return True if the value is missing, False otherwise.\n",
        "    \"\"\"\n",
        "    if isinstance(x, types.Float):\n",
        "        return lambda x: np.isnan(x)\n",
        "    elif isinstance(x, (types.NPDatetime, types.NPTimedelta)):\n",
        "        # The corresponding Not-a-Time value\n",
        "        missing = x('NaT')\n",
        "        return lambda x: x == missing\n",
        "    else:\n",
        "        return lambda x: False"
      ]
    },
    {
      "cell_type": "markdown",
      "metadata": {
        "id": "R-QjQ7wPKqil"
      },
      "source": [
        " Exercise 1\n",
        "\n",
        "1. Given two methods `py_sum(x,y)` and `np.sum(x,y)`, creates a method `numba_sum(x,y)` that computes the L1-distance of each element of two input arrays `x` and `y` with lengths $N$ (i.e., $\\sum_{i=0}^{N-1} |x_i - y_i|$). \n",
        "\n",
        "   Be sure of _using Python's built-in functions only_ for the `numba_sum(x,y)` function. \n",
        "   \n",
        "   Finally, measure their computational time for every method and compare them!\n",
        "\n",
        "2. **(Bonus):** Run 10 repetitions of the same computation, store those computation times, and show the mean and standard deviation for `py_sum(x)`, `np.sum(x)`, and`numba_sum(x)`.\n",
        "\n"
      ]
    },
    {
      "cell_type": "markdown",
      "metadata": {
        "id": "OLQnLrDZ20_3"
      },
      "source": [
        "Exercise 2\n",
        "--------------------------\n",
        "\n",
        "Optimized the Jacobi code using Numba, in particular using the vectorize decorators."
      ]
    },
    {
      "cell_type": "markdown",
      "metadata": {
        "id": "agmA56qEghBZ"
      },
      "source": [
        "# NUMBA for FOURIER ANALYSIS\n",
        "\n",
        "-----------------------------------------\n",
        "\n"
      ]
    },
    {
      "cell_type": "code",
      "execution_count": null,
      "metadata": {
        "id": "jaJsQFU4Kp9J"
      },
      "outputs": [],
      "source": [
        "#Given the following function for 1D Fast Fourier transform\n",
        "\n",
        "def FFT(x):\n",
        "    \"\"\"\n",
        "    A recursive implementation of\n",
        "    the 1D Cooley-Tukey FFT, the\n",
        "    input should have a length of\n",
        "    power of 2.\n",
        "    \"\"\"\n",
        "    N = len(x)\n",
        "\n",
        "    if N == 1:\n",
        "        return x\n",
        "    else:\n",
        "        X_even = FFT(x[::2])\n",
        "        X_odd = FFT(x[1::2])\n",
        "        factor = \\\n",
        "          np.exp(-2j*np.pi*np.arange(N)/ N)\n",
        "\n",
        "        X = np.concatenate(\\\n",
        "            [X_even+factor[:int(N/2)]*X_odd,\n",
        "             X_even+factor[int(N/2):]*X_odd])\n",
        "        return X\n",
        "\n",
        "#measure the speedup obtained if we apply this function to a big random  array."
      ]
    },
    {
      "cell_type": "code",
      "execution_count": null,
      "metadata": {
        "id": "u9oHyddGsrlQ"
      },
      "outputs": [],
      "source": [
        "\n"
      ]
    }
  ],
  "metadata": {
    "colab": {
      "provenance": []
    },
    "kernelspec": {
      "display_name": "Python 3",
      "name": "python3"
    },
    "language_info": {
      "name": "python"
    }
  },
  "nbformat": 4,
  "nbformat_minor": 0
}
