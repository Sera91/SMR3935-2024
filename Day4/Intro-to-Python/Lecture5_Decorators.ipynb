{
  "nbformat": 4,
  "nbformat_minor": 0,
  "metadata": {
    "colab": {
      "provenance": []
    },
    "kernelspec": {
      "name": "python3",
      "display_name": "Python 3"
    },
    "language_info": {
      "name": "python"
    }
  },
  "cells": [
    {
      "cell_type": "markdown",
      "source": [
        "Before introducing decorators I need to remember an important aspect of functions in Python: Python functions are first-class objects!\n",
        "\n",
        "Quoting the creator of Python, Guido Van Rossum:\n",
        "\"One of my goals for Python was to make it so that all objects were “first class.” By this, I meant that I wanted all objects that could be named in the language (e.g., integers, strings, functions, classes, modules, methods, etc.) to have equal status.\"(from “The History of Python,” February 27, 2009.)\n",
        "\n",
        "Objects in Python are classified by their value, type, and identity (aka. memory address).\n",
        "Being a first class object means:\n",
        "\n",
        "1. it can be created at runtime.\n",
        "2. it can be assigned to a variable.\n",
        "3. it can be passed as a argument to a function.\n",
        "4. it can be returned as a result from a function.\n",
        "5. it can have properties and methods\n",
        "\n",
        "Below I give some example of the described properties:\n",
        "\n",
        "property 1\n",
        "\n",
        "```python\n",
        "add = eval(\"lambda a,b : a + b\")\n",
        "print(add(10,20)) # logs: 30\n",
        "print(type(add)) # logs: <class 'function'>\n",
        "```\n",
        "\n",
        "property 2\n",
        "```python\n",
        "getSquare = lambda value: value * value\n",
        "[print(getSquare(value), end=' ') for value in [10,15,20]]\n",
        "\n",
        "```\n",
        "property 3\n",
        "```python\n",
        "import math\n",
        "\n",
        "def customFilter(arr,pred):\n",
        "    return [value for value in arr if pred(value)]\n",
        "    \n",
        "arr = [100,23,45,75,225,36]\n",
        "\n",
        "isPerfectSqaure = lambda x: int(math.sqrt(x))**2 == x\n",
        "\n",
        "print(customFilter(arr,isPerfectSqaure))\n",
        "\n",
        "\n",
        "```\n",
        "\n",
        "property 4:\n",
        "```python\n",
        "from time import time\n",
        "\n",
        "def wrapper(fun):\n",
        "    def inner(*args):\n",
        "        start = time()\n",
        "        result = fun(*args)\n",
        "        end = time()\n",
        "        print(f'Total time taken: {end - start} s')\n",
        "        return result\n",
        "    return inner\n",
        "    \n",
        "getSum = wrapper(sum)\n",
        "\n",
        "print(type(getSum))\n",
        "```\n",
        "property 5\n",
        "```python\n",
        "def getCube(num):\n",
        "    return num * num * num\n",
        "    \n",
        "# Printing properties and methods getCube function object have\n",
        "print(dir(getCube))\n",
        "```"
      ],
      "metadata": {
        "id": "kPZK1FtiOq8M"
      }
    },
    {
      "cell_type": "markdown",
      "source": [
        "#Decorators\n",
        "-------------------------------\n",
        "Decorators are tools that allow us to extend and modify the behavior of functions and classes without having to directly alter the source code.\n",
        "\n",
        "Note: The existence of decorators cannot be possible if Python functions were not first class objects!\n",
        "\n",
        "Let's build now our first decorator..."
      ],
      "metadata": {
        "id": "mUNrauR1TfvC"
      }
    },
    {
      "cell_type": "code",
      "execution_count": null,
      "metadata": {
        "id": "OWRMAGD2KlZO",
        "colab": {
          "base_uri": "https://localhost:8080/"
        },
        "outputId": "8ea98c61-c135-4774-dcfd-47b6f5e63bd0"
      },
      "outputs": [
        {
          "output_type": "stream",
          "name": "stdout",
          "text": [
            " I am before the function \n",
            "\n",
            "hello world! Today is raining doh..\n",
            " I am after the function \n",
            "\n"
          ]
        }
      ],
      "source": [
        "def Hello_world():\n",
        "    print(\"hello world! Today is raining doh..\")\n",
        "\n",
        "def add_one(number):\n",
        "  return number+1\n",
        "\n",
        "def decorator(function):\n",
        "  def wrapper():\n",
        "    print(\"\\n I am before the function \\n\")\n",
        "    function()\n",
        "    print(\" I am after the function \\n\")\n",
        "  return wrapper\n",
        "#Let's apply our decorator to Hello world function\n",
        "\n",
        "Hello_world_decorated = decorator(Hello_world)\n",
        "\n",
        "Hello_world_decorated\n",
        "\n",
        "Hello_world_decorated()\n",
        "\n",
        "\n",
        "\n"
      ]
    },
    {
      "cell_type": "markdown",
      "source": [
        "There is another way to apply the decorator, using @ symbol"
      ],
      "metadata": {
        "id": "KkaHMdmvaT1b"
      }
    },
    {
      "cell_type": "code",
      "source": [
        "def Hello_world():\n",
        "    print(\"hello world! Today is raining doh..\")\n",
        "\n",
        "\n",
        "Hello_world()\n",
        "\n",
        "@decorator\n",
        "def Hello_world():\n",
        "    print(\"hello world! Today is raining doh..\")\n",
        "\n",
        "Hello_world()"
      ],
      "metadata": {
        "colab": {
          "base_uri": "https://localhost:8080/"
        },
        "id": "mtGf8jKkYMuM",
        "outputId": "6ad7027c-65e7-42e5-bef4-28c572e9caac"
      },
      "execution_count": null,
      "outputs": [
        {
          "output_type": "stream",
          "name": "stdout",
          "text": [
            "hello world! Today is raining doh..\n",
            " I am before the function \n",
            "\n",
            "hello world! Today is raining doh..\n",
            " I am after the function \n",
            "\n"
          ]
        }
      ]
    },
    {
      "cell_type": "code",
      "source": [
        "# What happens if we apply the decorator to the add_one function?\n",
        "add_decorated= decorator(add_one(1))\n",
        "\n",
        "add_decorated()"
      ],
      "metadata": {
        "colab": {
          "base_uri": "https://localhost:8080/",
          "height": 421
        },
        "id": "vag1jMqxZXp3",
        "outputId": "11b449c7-0f00-4013-faf9-67aa4653d570"
      },
      "execution_count": null,
      "outputs": [
        {
          "output_type": "stream",
          "name": "stdout",
          "text": [
            " I am before the function \n",
            "\n"
          ]
        },
        {
          "output_type": "error",
          "ename": "TypeError",
          "evalue": "ignored",
          "traceback": [
            "\u001b[0;31m---------------------------------------------------------------------------\u001b[0m",
            "\u001b[0;31mTypeError\u001b[0m                                 Traceback (most recent call last)",
            "\u001b[0;32m<ipython-input-11-ba373f09421a>\u001b[0m in \u001b[0;36m<cell line: 3>\u001b[0;34m()\u001b[0m\n\u001b[1;32m      1\u001b[0m \u001b[0madd_decorated\u001b[0m\u001b[0;34m=\u001b[0m \u001b[0mdecorator\u001b[0m\u001b[0;34m(\u001b[0m\u001b[0madd_one\u001b[0m\u001b[0;34m(\u001b[0m\u001b[0;36m1\u001b[0m\u001b[0;34m)\u001b[0m\u001b[0;34m)\u001b[0m\u001b[0;34m\u001b[0m\u001b[0;34m\u001b[0m\u001b[0m\n\u001b[1;32m      2\u001b[0m \u001b[0;34m\u001b[0m\u001b[0m\n\u001b[0;32m----> 3\u001b[0;31m \u001b[0madd_decorated\u001b[0m\u001b[0;34m(\u001b[0m\u001b[0;34m)\u001b[0m\u001b[0;34m\u001b[0m\u001b[0;34m\u001b[0m\u001b[0m\n\u001b[0m",
            "\u001b[0;32m<ipython-input-9-a4a51a778f5e>\u001b[0m in \u001b[0;36mwrapper\u001b[0;34m()\u001b[0m\n\u001b[1;32m      8\u001b[0m   \u001b[0;32mdef\u001b[0m \u001b[0mwrapper\u001b[0m\u001b[0;34m(\u001b[0m\u001b[0;34m)\u001b[0m\u001b[0;34m:\u001b[0m\u001b[0;34m\u001b[0m\u001b[0;34m\u001b[0m\u001b[0m\n\u001b[1;32m      9\u001b[0m     \u001b[0mprint\u001b[0m\u001b[0;34m(\u001b[0m\u001b[0;34m\" I am before the function \\n\"\u001b[0m\u001b[0;34m)\u001b[0m\u001b[0;34m\u001b[0m\u001b[0;34m\u001b[0m\u001b[0m\n\u001b[0;32m---> 10\u001b[0;31m     \u001b[0mfunction\u001b[0m\u001b[0;34m(\u001b[0m\u001b[0;34m)\u001b[0m\u001b[0;34m\u001b[0m\u001b[0;34m\u001b[0m\u001b[0m\n\u001b[0m\u001b[1;32m     11\u001b[0m     \u001b[0mprint\u001b[0m\u001b[0;34m(\u001b[0m\u001b[0;34m\" I am after the function \\n\"\u001b[0m\u001b[0;34m)\u001b[0m\u001b[0;34m\u001b[0m\u001b[0;34m\u001b[0m\u001b[0m\n\u001b[1;32m     12\u001b[0m   \u001b[0;32mreturn\u001b[0m \u001b[0mwrapper\u001b[0m\u001b[0;34m\u001b[0m\u001b[0;34m\u001b[0m\u001b[0m\n",
            "\u001b[0;31mTypeError\u001b[0m: 'int' object is not callable"
          ]
        }
      ]
    },
    {
      "cell_type": "markdown",
      "source": [
        "We need to redefine the decorator in a smarter way to handle the input arguments and parameters of the function we want to decorate\n",
        "\n"
      ],
      "metadata": {
        "id": "IjliflmiYNmK"
      }
    },
    {
      "cell_type": "code",
      "source": [
        "def print_add_one(number):\n",
        "    print((number+1))\n",
        "\n",
        "def do_twice(func):\n",
        "  def wrapper(*args, **kwargs):\n",
        "    func(*args, **kwargs)\n",
        "    func(*args, **kwargs)\n",
        "  return wrapper\n",
        "\n",
        "print_add_one(1)\n",
        "\n",
        "@do_twice\n",
        "def print_add_one(number):\n",
        "  print(number+1)\n",
        "\n",
        "print_add_one(1)\n"
      ],
      "metadata": {
        "colab": {
          "base_uri": "https://localhost:8080/"
        },
        "id": "SQadnyJQcUrR",
        "outputId": "6d607070-781c-42d9-f384-2592565bb196"
      },
      "execution_count": null,
      "outputs": [
        {
          "output_type": "stream",
          "name": "stdout",
          "text": [
            "2\n",
            "2\n",
            "2\n"
          ]
        }
      ]
    },
    {
      "cell_type": "markdown",
      "source": [
        "Decorators can also be defined using the decorator @wraps provided by functools.\n",
        "\n",
        "If we do not use the functools decorator to define the inner wrapper function we loose the docstring of the original function\n",
        "\n",
        "This function allows also to call update_wrapper() as a function decorator when defining a wrapper function. It is equivalent to partial(update_wrapper, wrapped=wrapped, assigned=assigned, updated=updated)"
      ],
      "metadata": {
        "id": "Q-QSoK6ovSa9"
      }
    },
    {
      "cell_type": "code",
      "source": [
        "import functools\n",
        "\n",
        "def change_sign(func):\n",
        "    @functools.wraps(func)\n",
        "    def wrapper(*args, **kwargs):\n",
        "        return -func(*args, **kwargs)\n",
        "    return wrapper\n",
        "\n",
        "@change_sign\n",
        "def my_f(x):\n",
        "    \"\"\"\n",
        "    This function returns the input variable like it is\n",
        "    \"\"\"\n",
        "    return x\n",
        "\n",
        "@change_sign\n",
        "def product(x,y):\n",
        "    \"\"\"\n",
        "    This function returns the product of x and y\n",
        "    \"\"\"\n",
        "    return x*y\n",
        "\n",
        "help(my_f)\n",
        "help(product)\n",
        "\n",
        "product.__name__\n",
        "\n",
        "product.__doc__"
      ],
      "metadata": {
        "id": "MrX8CZ1evQD9"
      },
      "execution_count": null,
      "outputs": []
    },
    {
      "cell_type": "code",
      "source": [
        "def print_args(func):\n",
        "    @functools.wraps(func)\n",
        "    def wrapper(*args, **kwargs):\n",
        "            arguments = [f\"{a}\" for a in args]\n",
        "            karguments = [f\"{k}={v}\" for k,v in kwargs.items()]\n",
        "            name = func.__name__\n",
        "            print(\"Calling \"+name+\" with args: \"+\", \".join(arguments)+\""
      ],
      "metadata": {
        "id": "ZF__9mD6v9I5"
      },
      "execution_count": null,
      "outputs": []
    },
    {
      "cell_type": "markdown",
      "source": [
        "Exercise 1: Define a decorator which times a function using only the time module"
      ],
      "metadata": {
        "id": "ZIJFfAiRXyGk"
      }
    },
    {
      "cell_type": "code",
      "source": [
        "#Solution Ex.1"
      ],
      "metadata": {
        "id": "KyLDfwZ1X7-y"
      },
      "execution_count": null,
      "outputs": []
    },
    {
      "cell_type": "markdown",
      "source": [
        "Exercise 2: Define a decorator that debugs a function. Apply the debug decorator to a function of your choice inside the math module"
      ],
      "metadata": {
        "id": "dBvVcsLZX9Gr"
      }
    },
    {
      "cell_type": "code",
      "source": [
        "#Solution Ex. 2"
      ],
      "metadata": {
        "id": "MXAuzSHUYIOP"
      },
      "execution_count": null,
      "outputs": []
    },
    {
      "cell_type": "markdown",
      "source": [
        "#Decorators from functools module\n",
        "\n"
      ],
      "metadata": {
        "id": "K4qlZ7Pjh1i1"
      }
    },
    {
      "cell_type": "markdown",
      "source": [
        "The functools module contains higher-order functions and decorators for working with other functions and callable objects to use or extend them without completely rewriting them.\n",
        "\n",
        "Examples of higher-order functions are:\n",
        "- partial()\n",
        "- reduce()\n",
        "\n",
        "partial() helps when we want to use a general function with fixed parameters values in some setting\n",
        "\n"
      ],
      "metadata": {
        "id": "vigW3Xjmh90H"
      }
    },
    {
      "cell_type": "code",
      "source": [
        "from functools import reduce\n",
        "import numpy as np\n",
        "\n",
        "list1 = [2, 4, 7, 9, 1, 3]\n",
        "\n",
        "sum_of_list1 = reduce(lambda a, b:a + b, list1)\n",
        "\n",
        "arr_1 = np.array(list1)\n",
        "print(sum_of_list1)\n",
        "print(np.sum(arr_1))"
      ],
      "metadata": {
        "colab": {
          "base_uri": "https://localhost:8080/"
        },
        "id": "pS6MGmLij0G6",
        "outputId": "2f1a356e-3ab3-491f-de4f-8aea380192c2"
      },
      "execution_count": null,
      "outputs": [
        {
          "output_type": "stream",
          "name": "stdout",
          "text": [
            "26\n",
            "26\n"
          ]
        }
      ]
    },
    {
      "cell_type": "code",
      "source": [
        "from functools import lru_cache\n",
        "\n",
        "\n",
        "def factorial(n):\n",
        "\tif n<= 1:\n",
        "\t\treturn 1\n",
        "\treturn n * factorial(n-1)\n",
        "\n",
        "\n",
        "@lru_cache(maxsize = None)\n",
        "def factorial_cached(n):\n",
        "\tif n<= 1:\n",
        "\t\treturn 1\n",
        "\treturn n * factorial_cached(n-1)\n",
        "\n",
        "print([factorial_cached(n) for n in range(7)])\n",
        "print(factorial_cached.cache_info())\n",
        "\n",
        "\n",
        "\n",
        "\n",
        "\n"
      ],
      "metadata": {
        "colab": {
          "base_uri": "https://localhost:8080/"
        },
        "id": "JvOde-d1h7ci",
        "outputId": "9c9fab49-7fd4-4a7a-d986-d390b57f7192"
      },
      "execution_count": null,
      "outputs": [
        {
          "output_type": "stream",
          "name": "stdout",
          "text": [
            "[1, 1, 2, 6, 24, 120, 720]\n",
            "CacheInfo(hits=5, misses=7, maxsize=None, currsize=7)\n"
          ]
        }
      ]
    },
    {
      "cell_type": "code",
      "source": [
        "%timeit factorial(121)"
      ],
      "metadata": {
        "colab": {
          "base_uri": "https://localhost:8080/"
        },
        "id": "wqjVWbCflAio",
        "outputId": "557df35f-f352-40f4-cde5-cc07e1f696be"
      },
      "execution_count": null,
      "outputs": [
        {
          "output_type": "stream",
          "name": "stdout",
          "text": [
            "22.4 µs ± 705 ns per loop (mean ± std. dev. of 7 runs, 10000 loops each)\n"
          ]
        }
      ]
    },
    {
      "cell_type": "code",
      "source": [
        "\n",
        "%timeit factorial_cached(121)"
      ],
      "metadata": {
        "colab": {
          "base_uri": "https://localhost:8080/"
        },
        "id": "R_0ukGOOlDkE",
        "outputId": "9f5c1933-e4dd-4cff-d80f-577980a37eda"
      },
      "execution_count": null,
      "outputs": [
        {
          "output_type": "stream",
          "name": "stdout",
          "text": [
            "87.7 ns ± 0.579 ns per loop (mean ± std. dev. of 7 runs, 10000000 loops each)\n"
          ]
        }
      ]
    }
  ]
}